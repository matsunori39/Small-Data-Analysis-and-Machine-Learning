{
  "nbformat": 4,
  "nbformat_minor": 0,
  "metadata": {
    "colab": {
      "name": "Small Data Analysis and Machine Learning.ipynb",
      "provenance": [],
      "authorship_tag": "ABX9TyP288WmEb9qEOS+7QFrGQoQ",
      "include_colab_link": true
    },
    "kernelspec": {
      "name": "python3",
      "display_name": "Python 3"
    },
    "language_info": {
      "name": "python"
    }
  },
  "cells": [
    {
      "cell_type": "markdown",
      "metadata": {
        "id": "view-in-github",
        "colab_type": "text"
      },
      "source": [
        "<a href=\"https://colab.research.google.com/github/matsunori39/Small-Data-Analysis-and-Machine-Learning/blob/main/Small_Data_Analysis_and_Machine_Learning.ipynb\" target=\"_parent\"><img src=\"https://colab.research.google.com/assets/colab-badge.svg\" alt=\"Open In Colab\"/></a>"
      ]
    },
    {
      "cell_type": "markdown",
      "source": [
        "https://www.ohmsha.co.jp/book/9784274227783/"
      ],
      "metadata": {
        "id": "tDmqFg3N7fh0"
      }
    },
    {
      "cell_type": "markdown",
      "source": [
        "# Chapter 2 Correlation and Principal Component Analysis"
      ],
      "metadata": {
        "id": "8CQtbjGG7oXI"
      }
    },
    {
      "cell_type": "markdown",
      "source": [
        "## 2.1 Data Preprocessing"
      ],
      "metadata": {
        "id": "Q75zoekG75_A"
      }
    },
    {
      "cell_type": "markdown",
      "source": [
        "### Data Standardization"
      ],
      "metadata": {
        "id": "9AVAOBgkle4s"
      }
    },
    {
      "cell_type": "code",
      "source": [
        "import numpy as np\n",
        "\n",
        "def autoscale(X):\n",
        "  \"\"\"\n",
        "  Standardize data matrix\n",
        "\n",
        "  Parameters\n",
        "  ------------\n",
        "  X: Data Matrix\n",
        "\n",
        "  Return Value\n",
        "  ------------\n",
        "  Xscale: Data matrix after standardization\n",
        "  meanX: mean vector\n",
        "  stdX: standard deviation vector\n",
        "  \"\"\"\n",
        "\n",
        "  meanX = np.mean(X, axis = 0)\n",
        "  stdX = np.std(X, axis = 0, ddof = 1)\n",
        "  Xscale = (X - meanX) / stdX\n",
        "  return Xscale, meanX, stdX\n",
        "\n",
        "def scaling(x, meanX, stdX):\n",
        "  \"\"\"\n",
        "  Standardizes the sample from mean and standard deviation of the data matrix\n",
        "\n",
        "  Parameters\n",
        "  ------------\n",
        "  x: Samples to be standardized\n",
        "  meanX: mean vector\n",
        "  stdX: standard deviation vector\n",
        "\n",
        "  Return Value\n",
        "  ------------\n",
        "  xscale: Sample after standardization\n",
        "  \"\"\"\n",
        "\n",
        "  xscale = (x - meanX) / stdX\n",
        "  return xscale\n",
        "\n",
        "def rescaling(xscale, meanX, stdX):\n",
        "  \"\"\"\n",
        "  Restore standardized samples to original scale\n",
        "\n",
        "  Parameters\n",
        "  ------------\n",
        "  xscale: Sample after standardization\n",
        "  meanX: mean vector\n",
        "  stdX: standard deviation vector\n",
        "\n",
        "  Return Value\n",
        "  ------------\n",
        "  xscale: Sample of original scale\n",
        "  \"\"\"\n",
        "\n",
        "  x = np.multiply(stdX, xscale) + meanX\n",
        "  return x"
      ],
      "metadata": {
        "id": "BTitvuT2lzDZ"
      },
      "execution_count": 1,
      "outputs": []
    },
    {
      "cell_type": "markdown",
      "source": [
        "### Standardize data"
      ],
      "metadata": {
        "id": "IGFq0uQWBylX"
      }
    },
    {
      "cell_type": "code",
      "source": [
        "import numpy as np\n",
        "\n",
        "# Define existing data and unknown samples with ndarray type\n",
        "X = np.array([[1, 2, 3],\n",
        "              [4, 5, 6],\n",
        "              [7, 8, 9]])\n",
        "\n",
        "x = np.array([[10, 11, 12]])\n",
        "\n",
        "# Standardize X\n",
        "Xscale, meanX, stdX = autoscale(X)\n",
        "print(Xscale)"
      ],
      "metadata": {
        "id": "uv9kyKCtCJss",
        "colab": {
          "base_uri": "https://localhost:8080/"
        },
        "outputId": "939b205f-8451-4d04-f848-0f8496f65005"
      },
      "execution_count": 2,
      "outputs": [
        {
          "output_type": "stream",
          "name": "stdout",
          "text": [
            "[[-1. -1. -1.]\n",
            " [ 0.  0.  0.]\n",
            " [ 1.  1.  1.]]\n"
          ]
        }
      ]
    },
    {
      "cell_type": "code",
      "source": [
        "print(meanX)"
      ],
      "metadata": {
        "colab": {
          "base_uri": "https://localhost:8080/"
        },
        "id": "XomVS_A3Mn67",
        "outputId": "134ffa83-9723-4f2c-a011-b0b41909ec55"
      },
      "execution_count": 3,
      "outputs": [
        {
          "output_type": "stream",
          "name": "stdout",
          "text": [
            "[4. 5. 6.]\n"
          ]
        }
      ]
    },
    {
      "cell_type": "code",
      "source": [
        "print(stdX)"
      ],
      "metadata": {
        "colab": {
          "base_uri": "https://localhost:8080/"
        },
        "id": "PeG9zu5CMp8J",
        "outputId": "bfe652c6-c24b-4d61-e840-c5e051fefacf"
      },
      "execution_count": 4,
      "outputs": [
        {
          "output_type": "stream",
          "name": "stdout",
          "text": [
            "[3. 3. 3.]\n"
          ]
        }
      ]
    },
    {
      "cell_type": "code",
      "source": [
        "# Stdndardize unknown samples\n",
        "xscale = scaling(x, meanX, stdX)\n",
        "print(xscale)"
      ],
      "metadata": {
        "colab": {
          "base_uri": "https://localhost:8080/"
        },
        "id": "iFuCGEemMrp2",
        "outputId": "936194c4-c0b3-4973-c8bd-31b6fefbe12a"
      },
      "execution_count": 5,
      "outputs": [
        {
          "output_type": "stream",
          "name": "stdout",
          "text": [
            "[[2. 2. 2.]]\n"
          ]
        }
      ]
    },
    {
      "cell_type": "code",
      "source": [
        "# Restore the standardized sample to its original scale\n",
        "xrescale = rescaling(xscale, meanX, stdX)\n",
        "print(xrescale)"
      ],
      "metadata": {
        "colab": {
          "base_uri": "https://localhost:8080/"
        },
        "id": "TUG7vF81M6HJ",
        "outputId": "c188e135-5803-4966-ddad-f069d26260f9"
      },
      "execution_count": 6,
      "outputs": [
        {
          "output_type": "stream",
          "name": "stdout",
          "text": [
            "[[10. 11. 12.]]\n"
          ]
        }
      ]
    },
    {
      "cell_type": "markdown",
      "source": [
        "## 2.8 Derivation of the rth principal component"
      ],
      "metadata": {
        "id": "SWLkaHyTNLMB"
      }
    },
    {
      "cell_type": "markdown",
      "source": [
        "### PCA program with eigenvalue problem"
      ],
      "metadata": {
        "id": "ur58q7TNQiLY"
      }
    },
    {
      "cell_type": "code",
      "source": [
        "import numpy as np\n",
        "\n",
        "def pca(X):\n",
        "  \"\"\"\n",
        "  Performs principal component analysis with eigenvalues\n",
        "\n",
        "  Parameter\n",
        "  ------------\n",
        "  X: Data Matrix\n",
        "\n",
        "  Return Values\n",
        "  ------------\n",
        "  P: Loading Matrix\n",
        "  t: Principal Component Score Matrix  \n",
        "  \"\"\"\n",
        "\n",
        "  # Computes the covariance matrix\n",
        "  V = np.cov(X.T)\n",
        "  # Solve the eigenvalue problem for the covariance matrix\n",
        "  _, P = np.linalg.eig(V)\n",
        "\n",
        "  # Calculate principal component scores\n",
        "  t = X @ P\n",
        "  return P, t"
      ],
      "metadata": {
        "id": "Ys4mB8TKQ9K_"
      },
      "execution_count": 7,
      "outputs": []
    },
    {
      "cell_type": "markdown",
      "source": [
        "## 2.9 Examples of PCA values"
      ],
      "metadata": {
        "id": "3PnIIOBL4znV"
      }
    },
    {
      "cell_type": "code",
      "source": [
        "import numpy as np\n",
        "\n",
        "data = [[2, 2], [1, -1], [-1, 1], [-2, -2]]\n",
        "x = np.array(data)\n",
        "P, T = pca(x)\n",
        "\n",
        "print(P)"
      ],
      "metadata": {
        "colab": {
          "base_uri": "https://localhost:8080/"
        },
        "id": "RIfjDvM966K4",
        "outputId": "ce1be5ba-448e-4648-d05b-a1f3f49f1d59"
      },
      "execution_count": 8,
      "outputs": [
        {
          "output_type": "stream",
          "name": "stdout",
          "text": [
            "[[ 0.70710678 -0.70710678]\n",
            " [ 0.70710678  0.70710678]]\n"
          ]
        }
      ]
    },
    {
      "cell_type": "markdown",
      "source": [
        "## 2.12 PCA and Singular Value Decomposition"
      ],
      "metadata": {
        "id": "UTMgvRsck_9_"
      }
    },
    {
      "cell_type": "markdown",
      "source": [
        "### PCA using SVD"
      ],
      "metadata": {
        "id": "ZpB0ao0gXqAV"
      }
    },
    {
      "cell_type": "code",
      "source": [
        "import numpy as np\n",
        "\n",
        "def pca_svd(X):\n",
        "  \"\"\"\n",
        "  Perform principal component analysis using SVD\n",
        "\n",
        "  Parameter\n",
        "  ---------\n",
        "  X: Data Matrix\n",
        "\n",
        "  Return Values\n",
        "  ---------\n",
        "  P: Loading Matrix\n",
        "  t: Principal Component Score Matrix\n",
        "  \"\"\"\n",
        "\n",
        "  # Decompose a matrix into singular values\n",
        "  _, _, P = np.linalg.svd(X)\n",
        "\n",
        "  # Calculate principal component scores\n",
        "  t = X @ P.T\n",
        "  return P, t"
      ],
      "metadata": {
        "id": "SpI1fvH0X0DW"
      },
      "execution_count": 9,
      "outputs": []
    },
    {
      "cell_type": "code",
      "source": [
        "P, t = pca_svd(np.array(data))\n",
        "print(P)"
      ],
      "metadata": {
        "colab": {
          "base_uri": "https://localhost:8080/"
        },
        "id": "688dSUorZFqB",
        "outputId": "46e96c60-021e-4053-db7e-9e43b49c1320"
      },
      "execution_count": 10,
      "outputs": [
        {
          "output_type": "stream",
          "name": "stdout",
          "text": [
            "[[-0.70710678 -0.70710678]\n",
            " [-0.70710678  0.70710678]]\n"
          ]
        }
      ]
    },
    {
      "cell_type": "markdown",
      "source": [
        "# Chapter 3 Regression Analysis and Least Squares Method"
      ],
      "metadata": {
        "id": "9Tp5DFtvZWGn"
      }
    },
    {
      "cell_type": "markdown",
      "source": [
        "## 3.2 Least Squares Method"
      ],
      "metadata": {
        "id": "7up3N6UUdpcw"
      }
    },
    {
      "cell_type": "code",
      "source": [
        "import numpy as np\n",
        "\n",
        "def least_squares(X, y):\n",
        "  \"\"\"\n",
        "  Calculate regression coefficients using the least squares method\n",
        "\n",
        "  Parameters\n",
        "  ----------\n",
        "  X: input data\n",
        "  y: output data\n",
        "\n",
        "  Return Value\n",
        "  ----------\n",
        "  beta: regression coefficient\n",
        "  \"\"\"\n",
        "\n",
        "  # Vectorize y\n",
        "  y = y.reshape(-1, 1)\n",
        "\n",
        "  # normal equation\n",
        "  beta = np.linalg.inv(X.T @ X) @ X.T @ y\n",
        "  return beta\n",
        "\n",
        "def ls_est(x, beta):\n",
        "  \"\"\"\n",
        "  Predicts output using a linear regression model\n",
        "\n",
        "  Parameters\n",
        "  ----------\n",
        "  x: unknown sample\n",
        "  beta: regression coefficient\n",
        "\n",
        "  Return Value\n",
        "  ----------\n",
        "  y_hat: Predicted value\n",
        "  \"\"\"\n",
        "\n",
        "  y_hat = beta.T @ x\n",
        "  return y_hat"
      ],
      "metadata": {
        "id": "Vl-L-8Nwdy5c"
      },
      "execution_count": 11,
      "outputs": []
    },
    {
      "cell_type": "markdown",
      "source": [
        "### Numerical example of the least-squares method"
      ],
      "metadata": {
        "id": "33XJP5_-fmOs"
      }
    },
    {
      "cell_type": "code",
      "source": [
        "import numpy as np\n",
        "\n",
        "# Define data\n",
        "X = np.array([[0.01, 0.50, -0.12],\n",
        "              [0.97, -0.63, 0.02],\n",
        "              [0.41, 1.15, -1.17],\n",
        "              [-1.38, -1.02, 1.27]])\n",
        "\n",
        "y = np.array([[0.25], [0.08], [1.03], [-1.37]])\n",
        "x = np.array([1, 0.7, -0.2])\n",
        "\n",
        "# Find the regression coefficient\n",
        "beta = least_squares(X, y)\n",
        "print(beta)"
      ],
      "metadata": {
        "colab": {
          "base_uri": "https://localhost:8080/"
        },
        "id": "N50PKofJf1t0",
        "outputId": "7b6cffc6-e8f4-44fd-9fc2-ff52536b7ae8"
      },
      "execution_count": 12,
      "outputs": [
        {
          "output_type": "stream",
          "name": "stdout",
          "text": [
            "[[ 0.36347065]\n",
            " [ 0.41624871]\n",
            " [-0.34677593]]\n"
          ]
        }
      ]
    },
    {
      "cell_type": "code",
      "source": [
        "# Predicts output from unknown samples\n",
        "y_hat = ls_est(x, beta)\n",
        "print(y_hat)"
      ],
      "metadata": {
        "id": "tsmiuej4gZOK",
        "colab": {
          "base_uri": "https://localhost:8080/"
        },
        "outputId": "94a1f1ee-7b00-4e61-dca9-254ddff2f324"
      },
      "execution_count": 13,
      "outputs": [
        {
          "output_type": "stream",
          "name": "stdout",
          "text": [
            "[0.72419993]\n"
          ]
        }
      ]
    },
    {
      "cell_type": "markdown",
      "source": [
        "## 3.7 Multicollinearity issues"
      ],
      "metadata": {
        "id": "cHS-9mp9JR15"
      }
    },
    {
      "cell_type": "code",
      "source": [
        "A = np.array([[2.01,   1 ],\n",
        "              [  4 , 2.01]])\n",
        "B = np.array([[1.99,   1 ],\n",
        "              [  4 , 2.02]])"
      ],
      "metadata": {
        "id": "m3c8RKj5LTA1"
      },
      "execution_count": 14,
      "outputs": []
    },
    {
      "cell_type": "code",
      "source": [
        "np.linalg.inv(A)"
      ],
      "metadata": {
        "colab": {
          "base_uri": "https://localhost:8080/"
        },
        "id": "yQZ0ZDh0NR0g",
        "outputId": "3de905bc-889c-429d-dec5-037c532446e2"
      },
      "execution_count": 15,
      "outputs": [
        {
          "output_type": "execute_result",
          "data": {
            "text/plain": [
              "array([[ 50.12468828, -24.93765586],\n",
              "       [-99.75062344,  50.12468828]])"
            ]
          },
          "metadata": {},
          "execution_count": 15
        }
      ]
    },
    {
      "cell_type": "code",
      "source": [
        "np.linalg.inv(B)"
      ],
      "metadata": {
        "colab": {
          "base_uri": "https://localhost:8080/"
        },
        "id": "GzxO6juMNX7x",
        "outputId": "5e28deac-6bfd-4b1f-acc6-464fe114c050"
      },
      "execution_count": 16,
      "outputs": [
        {
          "output_type": "execute_result",
          "data": {
            "text/plain": [
              "array([[ 102.02020202,  -50.50505051],\n",
              "       [-202.02020202,  100.50505051]])"
            ]
          },
          "metadata": {},
          "execution_count": 16
        }
      ]
    },
    {
      "cell_type": "code",
      "source": [
        "C = np.array([[ 2 , 1 ],\n",
        "              [ 4 , 2 ]])"
      ],
      "metadata": {
        "id": "KG2k3mBTNaiq"
      },
      "execution_count": 17,
      "outputs": []
    },
    {
      "cell_type": "code",
      "source": [
        "np.linalg.cond(A)"
      ],
      "metadata": {
        "colab": {
          "base_uri": "https://localhost:8080/"
        },
        "id": "wYgKJIDhNqPt",
        "outputId": "1247c60d-82cf-4837-f589-da6d3f37d976"
      },
      "execution_count": 18,
      "outputs": [
        {
          "output_type": "execute_result",
          "data": {
            "text/plain": [
              "625.4397976337879"
            ]
          },
          "metadata": {},
          "execution_count": 18
        }
      ]
    },
    {
      "cell_type": "code",
      "source": [
        "np.linalg.cond(B)"
      ],
      "metadata": {
        "colab": {
          "base_uri": "https://localhost:8080/"
        },
        "id": "MdmnM3oYNuif",
        "outputId": "a1cb63fb-e042-4752-8f9f-217a7b302160"
      },
      "execution_count": 19,
      "outputs": [
        {
          "output_type": "execute_result",
          "data": {
            "text/plain": [
              "1264.670926452252"
            ]
          },
          "metadata": {},
          "execution_count": 19
        }
      ]
    },
    {
      "cell_type": "code",
      "source": [
        "np.linalg.cond(C)"
      ],
      "metadata": {
        "colab": {
          "base_uri": "https://localhost:8080/"
        },
        "id": "fF3hyiTtNzaK",
        "outputId": "93721cf2-250c-4cd2-ae91-954da049288a"
      },
      "execution_count": 20,
      "outputs": [
        {
          "output_type": "execute_result",
          "data": {
            "text/plain": [
              "2.517588727560788e+16"
            ]
          },
          "metadata": {},
          "execution_count": 20
        }
      ]
    },
    {
      "cell_type": "markdown",
      "source": [
        "### For data without multicolinearity"
      ],
      "metadata": {
        "id": "Xn_9xMSzN0PV"
      }
    },
    {
      "cell_type": "code",
      "source": [
        "import numpy as np\n",
        "\n",
        "# Define data\n",
        "X1 = np.array([[0.01, 0.50, -0.12],\n",
        "               [0.97, -0.63, 0.02],\n",
        "               [0.41, 1.15, -1.17],\n",
        "               [-1.38, -1.02, 1.27]])\n",
        "\n",
        "X2 = np.array([[-0.01, 0.52, -0.12],\n",
        "               [0.96, -0.64, 0.03],\n",
        "               [0.43, 1.14, -1.17],\n",
        "               [-1.38, -1.01, 1.27]])"
      ],
      "metadata": {
        "id": "5QGhJm_POJMF"
      },
      "execution_count": 24,
      "outputs": []
    },
    {
      "cell_type": "code",
      "source": [
        "np.linalg.cond(X1.T @ X1)"
      ],
      "metadata": {
        "colab": {
          "base_uri": "https://localhost:8080/"
        },
        "id": "i3nYr70Dm73K",
        "outputId": "e4f6f586-d1f4-439a-b044-564255bcffcd"
      },
      "execution_count": 25,
      "outputs": [
        {
          "output_type": "execute_result",
          "data": {
            "text/plain": [
              "135.7529385871794"
            ]
          },
          "metadata": {},
          "execution_count": 25
        }
      ]
    },
    {
      "cell_type": "code",
      "source": [
        "np.linalg.cond(X2.T @ X2)"
      ],
      "metadata": {
        "colab": {
          "base_uri": "https://localhost:8080/"
        },
        "id": "I_LbTNMInGeF",
        "outputId": "c8667069-5db0-4fc4-c6f0-cba95894d2cc"
      },
      "execution_count": 26,
      "outputs": [
        {
          "output_type": "execute_result",
          "data": {
            "text/plain": [
              "133.3934657598505"
            ]
          },
          "metadata": {},
          "execution_count": 26
        }
      ]
    },
    {
      "cell_type": "code",
      "source": [
        "y = np.array([[0.25], [0.08], [1.03], [-1.37]])\n",
        "\n",
        "# Calculate the regression coefficients for each of X1 and X2\n",
        "beta1 = least_squares(X1, y)\n",
        "print(beta1)"
      ],
      "metadata": {
        "colab": {
          "base_uri": "https://localhost:8080/"
        },
        "id": "b4BtnGCem5U5",
        "outputId": "e9f8213a-7bd8-4b69-fc5d-0dc7e3dfeb32"
      },
      "execution_count": 27,
      "outputs": [
        {
          "output_type": "stream",
          "name": "stdout",
          "text": [
            "[[ 0.36347065]\n",
            " [ 0.41624871]\n",
            " [-0.34677593]]\n"
          ]
        }
      ]
    },
    {
      "cell_type": "code",
      "source": [
        "beta2 = least_squares(X2, y)\n",
        "print(beta2)"
      ],
      "metadata": {
        "colab": {
          "base_uri": "https://localhost:8080/"
        },
        "id": "6u3sc_S_l1uG",
        "outputId": "9c8b96d1-4de9-4eb5-8488-5f48e6cff159"
      },
      "execution_count": 28,
      "outputs": [
        {
          "output_type": "stream",
          "name": "stdout",
          "text": [
            "[[ 0.37270979]\n",
            " [ 0.41379869]\n",
            " [-0.34252764]]\n"
          ]
        }
      ]
    },
    {
      "cell_type": "markdown",
      "source": [
        "### For multicolinear data"
      ],
      "metadata": {
        "id": "xW-O4J2_l7kB"
      }
    },
    {
      "cell_type": "code",
      "source": [
        "import numpy as np\n",
        "\n",
        "# Define data (※ 0.25 * column1 - 0.8 * column2 = column3)\n",
        "X1 = np.array([[-1.12, -0.51, 0.69],\n",
        "               [-0.43, -1.12, 1.02],\n",
        "               [0.37, 1.10, -0.98],\n",
        "               [1.19, 0.53, -0.73]])\n",
        "\n",
        "X2 = np.array([[-1.12, -0.51, 0.70],\n",
        "               [-0.43, -1.12, 1.01],\n",
        "               [0.36, 1.10, -0.98],\n",
        "               [1.20, 0.53, -0.73]])"
      ],
      "metadata": {
        "id": "NQR7GWSZnjrP"
      },
      "execution_count": 29,
      "outputs": []
    },
    {
      "cell_type": "code",
      "source": [
        "np.linalg.cond(X1.T @ X1)"
      ],
      "metadata": {
        "colab": {
          "base_uri": "https://localhost:8080/"
        },
        "id": "qxhG_c2wo9NI",
        "outputId": "a29ac0a7-eb94-4d11-fba0-7caab66c6305"
      },
      "execution_count": 30,
      "outputs": [
        {
          "output_type": "execute_result",
          "data": {
            "text/plain": [
              "235456.75658377822"
            ]
          },
          "metadata": {},
          "execution_count": 30
        }
      ]
    },
    {
      "cell_type": "code",
      "source": [
        "np.linalg.cond(X2.T @ X2)"
      ],
      "metadata": {
        "colab": {
          "base_uri": "https://localhost:8080/"
        },
        "id": "v7zyEYJCo_8X",
        "outputId": "f537d15f-da75-4d6e-8960-3c7cd516c410"
      },
      "execution_count": 31,
      "outputs": [
        {
          "output_type": "execute_result",
          "data": {
            "text/plain": [
              "470649.9730137264"
            ]
          },
          "metadata": {},
          "execution_count": 31
        }
      ]
    },
    {
      "cell_type": "code",
      "source": [
        "y = np.array([0.4, 1.17, -1.14, -0.42])\n",
        "\n",
        "# Calculate the regression coefficients for each of X1 and X2\n",
        "beta1 = least_squares(X1, y)\n",
        "print(beta1)"
      ],
      "metadata": {
        "colab": {
          "base_uri": "https://localhost:8080/"
        },
        "id": "M2fKWED1pCl-",
        "outputId": "ff8f5353-ff87-4990-dd0b-c61ef7ef4cef"
      },
      "execution_count": 32,
      "outputs": [
        {
          "output_type": "stream",
          "name": "stdout",
          "text": [
            "[[0.54496962]\n",
            " [0.24094799]\n",
            " [1.64044474]]\n"
          ]
        }
      ]
    },
    {
      "cell_type": "code",
      "source": [
        "beta2 = least_squares(X2, y)\n",
        "print(beta2)"
      ],
      "metadata": {
        "colab": {
          "base_uri": "https://localhost:8080/"
        },
        "id": "qig6qz2gpYh_",
        "outputId": "e7fcc55e-6d10-493e-8652-dc891b67ee4c"
      },
      "execution_count": 33,
      "outputs": [
        {
          "output_type": "stream",
          "name": "stdout",
          "text": [
            "[[-0.42794288]\n",
            " [-2.86298696]\n",
            " [-2.2029719 ]]\n"
          ]
        }
      ]
    },
    {
      "cell_type": "code",
      "source": [
        ""
      ],
      "metadata": {
        "id": "Rh9LlNL-pbx3"
      },
      "execution_count": null,
      "outputs": []
    }
  ]
}