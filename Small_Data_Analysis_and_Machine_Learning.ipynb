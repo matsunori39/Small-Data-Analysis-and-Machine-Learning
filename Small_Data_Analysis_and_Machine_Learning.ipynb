{
  "nbformat": 4,
  "nbformat_minor": 0,
  "metadata": {
    "colab": {
      "name": "Small Data Analysis and Machine Learning.ipynb",
      "provenance": [],
      "authorship_tag": "ABX9TyNLuA1zWNivD81PGv8F4jJ2",
      "include_colab_link": true
    },
    "kernelspec": {
      "name": "python3",
      "display_name": "Python 3"
    },
    "language_info": {
      "name": "python"
    }
  },
  "cells": [
    {
      "cell_type": "markdown",
      "metadata": {
        "id": "view-in-github",
        "colab_type": "text"
      },
      "source": [
        "<a href=\"https://colab.research.google.com/github/matsunori39/Small-Data-Analysis-and-Machine-Learning/blob/main/Small_Data_Analysis_and_Machine_Learning.ipynb\" target=\"_parent\"><img src=\"https://colab.research.google.com/assets/colab-badge.svg\" alt=\"Open In Colab\"/></a>"
      ]
    },
    {
      "cell_type": "markdown",
      "source": [
        "https://www.ohmsha.co.jp/book/9784274227783/"
      ],
      "metadata": {
        "id": "tDmqFg3N7fh0"
      }
    },
    {
      "cell_type": "markdown",
      "source": [
        "# Chapter 2 Correlation and Principal Component Analysis"
      ],
      "metadata": {
        "id": "8CQtbjGG7oXI"
      }
    },
    {
      "cell_type": "markdown",
      "source": [
        "## 2.1 Data Preprocessing"
      ],
      "metadata": {
        "id": "Q75zoekG75_A"
      }
    },
    {
      "cell_type": "markdown",
      "source": [
        "### Data Standardization"
      ],
      "metadata": {
        "id": "9AVAOBgkle4s"
      }
    },
    {
      "cell_type": "code",
      "source": [
        "import numpy as np\n",
        "\n",
        "def autoscale(X):\n",
        "  \"\"\"\n",
        "  Standardize data matrix\n",
        "\n",
        "  Parameters\n",
        "  ------------\n",
        "  X: Data Matrix\n",
        "\n",
        "  Return Value\n",
        "  ------------\n",
        "  Xscale: Data matrix after standardization\n",
        "  meanX: mean vector\n",
        "  stdX: standard deviation vector\n",
        "  \"\"\"\n",
        "\n",
        "  meanX = np.mean(X, axis = 0)\n",
        "  stdX = np.std(X, axis = 0, ddof = 1)\n",
        "  Xscale = (X - meanX) / stdX\n",
        "  return Xscale, meanX, stdX\n",
        "\n",
        "def scaling(x, meanX, stdX):\n",
        "  \"\"\"\n",
        "  Standardizes the sample from mean and standard deviation of the data matrix\n",
        "\n",
        "  Parameters\n",
        "  ------------\n",
        "  x: Samples to be standardized\n",
        "  meanX: mean vector\n",
        "  stdX: standard deviation vector\n",
        "\n",
        "  Return Value\n",
        "  ------------\n",
        "  xscale: Sample after standardization\n",
        "  \"\"\"\n",
        "\n",
        "  xscale = (x - meanX) / stdX\n",
        "  return xscale\n",
        "\n",
        "def rescaling(xscale, meanX, stdX):\n",
        "  \"\"\"\n",
        "  Restore standardized samples to original scale\n",
        "\n",
        "  Parameters\n",
        "  ------------\n",
        "  xscale: Sample after standardization\n",
        "  meanX: mean vector\n",
        "  stdX: standard deviation vector\n",
        "\n",
        "  Return Value\n",
        "  ------------\n",
        "  xscale: Sample of original scale\n",
        "  \"\"\"\n",
        "\n",
        "  x = np.multiply(stdX, xscale) + meanX\n",
        "  return x"
      ],
      "metadata": {
        "id": "BTitvuT2lzDZ"
      },
      "execution_count": 15,
      "outputs": []
    },
    {
      "cell_type": "markdown",
      "source": [
        "### Standardize data"
      ],
      "metadata": {
        "id": "IGFq0uQWBylX"
      }
    },
    {
      "cell_type": "code",
      "source": [
        "import numpy as np\n",
        "\n",
        "# Define existing data and unknown samples with ndarray type\n",
        "X = np.array([[1, 2, 3],\n",
        "              [4, 5, 6],\n",
        "              [7, 8, 9]])\n",
        "\n",
        "x = np.array([[10, 11, 12]])\n",
        "\n",
        "# Standardize X\n",
        "Xscale, meanX, stdX = autoscale(X)\n",
        "print(Xscale)"
      ],
      "metadata": {
        "id": "uv9kyKCtCJss",
        "colab": {
          "base_uri": "https://localhost:8080/"
        },
        "outputId": "41f85f90-ca78-43f1-af36-ea59b23a9723"
      },
      "execution_count": 16,
      "outputs": [
        {
          "output_type": "stream",
          "name": "stdout",
          "text": [
            "[[-1. -1. -1.]\n",
            " [ 0.  0.  0.]\n",
            " [ 1.  1.  1.]]\n"
          ]
        }
      ]
    },
    {
      "cell_type": "code",
      "source": [
        "print(meanX)"
      ],
      "metadata": {
        "colab": {
          "base_uri": "https://localhost:8080/"
        },
        "id": "XomVS_A3Mn67",
        "outputId": "b54cf7a8-b14e-4712-b32b-233fc132ed46"
      },
      "execution_count": 17,
      "outputs": [
        {
          "output_type": "stream",
          "name": "stdout",
          "text": [
            "[4. 5. 6.]\n"
          ]
        }
      ]
    },
    {
      "cell_type": "code",
      "source": [
        "print(stdX)"
      ],
      "metadata": {
        "colab": {
          "base_uri": "https://localhost:8080/"
        },
        "id": "PeG9zu5CMp8J",
        "outputId": "970b8fe1-ab9b-4234-9773-e3e73d5449b4"
      },
      "execution_count": 18,
      "outputs": [
        {
          "output_type": "stream",
          "name": "stdout",
          "text": [
            "[3. 3. 3.]\n"
          ]
        }
      ]
    },
    {
      "cell_type": "code",
      "source": [
        "# Stdndardize unknown samples\n",
        "xscale = scaling(x, meanX, stdX)\n",
        "print(xscale)"
      ],
      "metadata": {
        "colab": {
          "base_uri": "https://localhost:8080/"
        },
        "id": "iFuCGEemMrp2",
        "outputId": "d6f8bb0c-7803-4bc4-e921-b948d0f6d3b7"
      },
      "execution_count": 19,
      "outputs": [
        {
          "output_type": "stream",
          "name": "stdout",
          "text": [
            "[[2. 2. 2.]]\n"
          ]
        }
      ]
    },
    {
      "cell_type": "code",
      "source": [
        "# Restore the standardized sample to its original scale\n",
        "xrescale = rescaling(xscale, meanX, stdX)\n",
        "print(xrescale)"
      ],
      "metadata": {
        "colab": {
          "base_uri": "https://localhost:8080/"
        },
        "id": "TUG7vF81M6HJ",
        "outputId": "c9d17eef-1705-45cb-e498-8cf7410bea1a"
      },
      "execution_count": 20,
      "outputs": [
        {
          "output_type": "stream",
          "name": "stdout",
          "text": [
            "[[10. 11. 12.]]\n"
          ]
        }
      ]
    },
    {
      "cell_type": "markdown",
      "source": [
        "## 2.8 Derivation of the rth principal component"
      ],
      "metadata": {
        "id": "SWLkaHyTNLMB"
      }
    },
    {
      "cell_type": "markdown",
      "source": [
        "### PCA program with eigenvalue problem"
      ],
      "metadata": {
        "id": "ur58q7TNQiLY"
      }
    },
    {
      "cell_type": "code",
      "source": [
        "import numpy as np\n",
        "\n",
        "def pca(X):\n",
        "  \"\"\"\n",
        "  Performs principal component analysis with eigenvalues\n",
        "\n",
        "  Parameter\n",
        "  ------------\n",
        "  X: Data Matrix\n",
        "\n",
        "  Return Values\n",
        "  ------------\n",
        "  P: Loading Matrix\n",
        "  t: Principal Component Score Matrix  \n",
        "  \"\"\"\n",
        "\n",
        "  # Computes the covariance matrix\n",
        "  V = np.cov(X.T)\n",
        "  # Solve the eigenvalue problem for the covariance matrix\n",
        "  _, P = np.linalg.eig(V)\n",
        "\n",
        "  # Calculate principal component scores\n",
        "  t = X @ P\n",
        "  return P, t"
      ],
      "metadata": {
        "id": "Ys4mB8TKQ9K_"
      },
      "execution_count": 21,
      "outputs": []
    },
    {
      "cell_type": "markdown",
      "source": [
        "## 2.9 Examples of PCA values"
      ],
      "metadata": {
        "id": "3PnIIOBL4znV"
      }
    },
    {
      "cell_type": "code",
      "source": [
        "import numpy as np\n",
        "\n",
        "data = [[2, 2], [1, -1], [-1, 1], [-2, -2]]\n",
        "x = np.array(data)\n",
        "P, T = pca(x)\n",
        "\n",
        "print(P)"
      ],
      "metadata": {
        "colab": {
          "base_uri": "https://localhost:8080/"
        },
        "id": "RIfjDvM966K4",
        "outputId": "3eaff3d2-4d0c-4450-cf66-a9324493f500"
      },
      "execution_count": 22,
      "outputs": [
        {
          "output_type": "stream",
          "name": "stdout",
          "text": [
            "[[ 0.70710678 -0.70710678]\n",
            " [ 0.70710678  0.70710678]]\n"
          ]
        }
      ]
    },
    {
      "cell_type": "markdown",
      "source": [
        "## 2.12 PCA and Singular Value Decomposition"
      ],
      "metadata": {
        "id": "UTMgvRsck_9_"
      }
    },
    {
      "cell_type": "markdown",
      "source": [
        "### PCA using SVD"
      ],
      "metadata": {
        "id": "ZpB0ao0gXqAV"
      }
    },
    {
      "cell_type": "code",
      "source": [
        "import numpy as np\n",
        "\n",
        "def pca_svd(X):\n",
        "  \"\"\"\n",
        "  Perform principal component analysis using SVD\n",
        "\n",
        "  Parameter\n",
        "  ---------\n",
        "  X: Data Matrix\n",
        "\n",
        "  Return Values\n",
        "  ---------\n",
        "  P: Loading Matrix\n",
        "  t: Principal Component Score Matrix\n",
        "  \"\"\"\n",
        "\n",
        "  # Decompose a matrix into singular values\n",
        "  _, _, P = np.linalg.svd(X)\n",
        "\n",
        "  # Calculate principal component scores\n",
        "  t = X @ P.T\n",
        "  return P, t"
      ],
      "metadata": {
        "id": "SpI1fvH0X0DW"
      },
      "execution_count": 23,
      "outputs": []
    },
    {
      "cell_type": "code",
      "source": [
        "P, t = pca_svd(np.array(data))\n",
        "print(P)"
      ],
      "metadata": {
        "colab": {
          "base_uri": "https://localhost:8080/"
        },
        "id": "688dSUorZFqB",
        "outputId": "7a07fd98-b33d-4e14-99fe-a42cac039234"
      },
      "execution_count": 24,
      "outputs": [
        {
          "output_type": "stream",
          "name": "stdout",
          "text": [
            "[[-0.70710678 -0.70710678]\n",
            " [-0.70710678  0.70710678]]\n"
          ]
        }
      ]
    },
    {
      "cell_type": "markdown",
      "source": [
        "# Chapter 3 Regression Analysis and Least Squares Method"
      ],
      "metadata": {
        "id": "9Tp5DFtvZWGn"
      }
    },
    {
      "cell_type": "markdown",
      "source": [
        "## 3.2 Least Squares Method"
      ],
      "metadata": {
        "id": "7up3N6UUdpcw"
      }
    },
    {
      "cell_type": "code",
      "source": [
        "import numpy as np\n",
        "\n",
        "def least_squares(X, y):\n",
        "  \"\"\"\n",
        "  Calculate regression coefficients using the least squares method\n",
        "\n",
        "  Parameters\n",
        "  ----------\n",
        "  X: input data\n",
        "  y: output data\n",
        "\n",
        "  Return Value\n",
        "  ----------\n",
        "  beta: regression coefficient\n",
        "  \"\"\"\n",
        "\n",
        "  # Vectorize y\n",
        "  y = y.reshape(-1, 1)\n",
        "\n",
        "  # normal equation\n",
        "  beta = np.linalg.inv(X.T @ X) @ X.T @ y\n",
        "  return beta\n",
        "\n",
        "def ls_est(x, beta):\n",
        "  \"\"\"\n",
        "  Predicts output using a linear regression model\n",
        "\n",
        "  Parameters\n",
        "  ----------\n",
        "  x: unknown sample\n",
        "  beta: regression coefficient\n",
        "\n",
        "  Return Value\n",
        "  ----------\n",
        "  y_hat: Predicted value\n",
        "  \"\"\"\n",
        "\n",
        "  y_hat = beta.T @ x\n",
        "  return y_hat"
      ],
      "metadata": {
        "id": "Vl-L-8Nwdy5c"
      },
      "execution_count": 25,
      "outputs": []
    },
    {
      "cell_type": "markdown",
      "source": [
        "### Numerical example of the least-squares method"
      ],
      "metadata": {
        "id": "33XJP5_-fmOs"
      }
    },
    {
      "cell_type": "code",
      "source": [
        "import numpy as np\n",
        "\n",
        "# Define data\n",
        "X = np.array([[0.01, 0.50, -0.12],\n",
        "              [0.97, -0.63, 0.02],\n",
        "              [0.41, 1.15, -1.17],\n",
        "              [-1.38, -1.02, 1.27]])\n",
        "\n",
        "y = np.array([[0.25], [0.08], [1.03], [-1.37]])\n",
        "x = np.array([1, 0.7, -0.2])\n",
        "\n",
        "# Find the regression coefficient\n",
        "beta = least_squares(X, y)\n",
        "print(beta)"
      ],
      "metadata": {
        "colab": {
          "base_uri": "https://localhost:8080/"
        },
        "id": "N50PKofJf1t0",
        "outputId": "680edbc3-0cd1-41ed-8985-d279a137e062"
      },
      "execution_count": 26,
      "outputs": [
        {
          "output_type": "stream",
          "name": "stdout",
          "text": [
            "[[ 0.36347065]\n",
            " [ 0.41624871]\n",
            " [-0.34677593]]\n"
          ]
        }
      ]
    },
    {
      "cell_type": "code",
      "source": [
        "# Predicts output from unknown samples\n",
        "y_hat = ls_est(x, beta)\n",
        "print(y_hat)"
      ],
      "metadata": {
        "id": "tsmiuej4gZOK",
        "colab": {
          "base_uri": "https://localhost:8080/"
        },
        "outputId": "b239033f-91fa-46f5-d00f-df79e394e33a"
      },
      "execution_count": 27,
      "outputs": [
        {
          "output_type": "stream",
          "name": "stdout",
          "text": [
            "[0.72419993]\n"
          ]
        }
      ]
    },
    {
      "cell_type": "markdown",
      "source": [
        "## 3.7 Multicollinearity issues"
      ],
      "metadata": {
        "id": "cHS-9mp9JR15"
      }
    },
    {
      "cell_type": "code",
      "source": [
        "A = np.array([[2.01,   1 ],\n",
        "              [  4 , 2.01]])\n",
        "B = np.array([[1.99,   1 ],\n",
        "              [  4 , 2.02]])"
      ],
      "metadata": {
        "id": "m3c8RKj5LTA1"
      },
      "execution_count": 28,
      "outputs": []
    },
    {
      "cell_type": "code",
      "source": [
        "np.linalg.inv(A)"
      ],
      "metadata": {
        "colab": {
          "base_uri": "https://localhost:8080/"
        },
        "id": "yQZ0ZDh0NR0g",
        "outputId": "5ccb0b14-14ce-416c-c15f-392e821c8601"
      },
      "execution_count": 29,
      "outputs": [
        {
          "output_type": "execute_result",
          "data": {
            "text/plain": [
              "array([[ 50.12468828, -24.93765586],\n",
              "       [-99.75062344,  50.12468828]])"
            ]
          },
          "metadata": {},
          "execution_count": 29
        }
      ]
    },
    {
      "cell_type": "code",
      "source": [
        "np.linalg.inv(B)"
      ],
      "metadata": {
        "colab": {
          "base_uri": "https://localhost:8080/"
        },
        "id": "GzxO6juMNX7x",
        "outputId": "6152ea88-a26b-485e-b265-bd357e959de9"
      },
      "execution_count": 30,
      "outputs": [
        {
          "output_type": "execute_result",
          "data": {
            "text/plain": [
              "array([[ 102.02020202,  -50.50505051],\n",
              "       [-202.02020202,  100.50505051]])"
            ]
          },
          "metadata": {},
          "execution_count": 30
        }
      ]
    },
    {
      "cell_type": "code",
      "source": [
        "C = np.array([[ 2 , 1 ],\n",
        "              [ 4 , 2 ]])"
      ],
      "metadata": {
        "id": "KG2k3mBTNaiq"
      },
      "execution_count": 31,
      "outputs": []
    },
    {
      "cell_type": "code",
      "source": [
        "np.linalg.cond(A)"
      ],
      "metadata": {
        "colab": {
          "base_uri": "https://localhost:8080/"
        },
        "id": "wYgKJIDhNqPt",
        "outputId": "3193c5ea-2b0d-4ae9-a28f-fb403988a907"
      },
      "execution_count": 32,
      "outputs": [
        {
          "output_type": "execute_result",
          "data": {
            "text/plain": [
              "625.4397976337879"
            ]
          },
          "metadata": {},
          "execution_count": 32
        }
      ]
    },
    {
      "cell_type": "code",
      "source": [
        "np.linalg.cond(B)"
      ],
      "metadata": {
        "colab": {
          "base_uri": "https://localhost:8080/"
        },
        "id": "MdmnM3oYNuif",
        "outputId": "df18821e-ad38-4e08-bb0e-3970cc84c00d"
      },
      "execution_count": 33,
      "outputs": [
        {
          "output_type": "execute_result",
          "data": {
            "text/plain": [
              "1264.670926452252"
            ]
          },
          "metadata": {},
          "execution_count": 33
        }
      ]
    },
    {
      "cell_type": "code",
      "source": [
        "np.linalg.cond(C)"
      ],
      "metadata": {
        "colab": {
          "base_uri": "https://localhost:8080/"
        },
        "id": "fF3hyiTtNzaK",
        "outputId": "8f9ac00f-422b-4d5d-f5aa-84ee9818a2f9"
      },
      "execution_count": 34,
      "outputs": [
        {
          "output_type": "execute_result",
          "data": {
            "text/plain": [
              "2.517588727560788e+16"
            ]
          },
          "metadata": {},
          "execution_count": 34
        }
      ]
    },
    {
      "cell_type": "markdown",
      "source": [
        "### For data without multicolinearity"
      ],
      "metadata": {
        "id": "Xn_9xMSzN0PV"
      }
    },
    {
      "cell_type": "code",
      "source": [
        "import numpy as np\n",
        "\n",
        "# "
      ],
      "metadata": {
        "id": "5QGhJm_POJMF"
      },
      "execution_count": null,
      "outputs": []
    }
  ]
}