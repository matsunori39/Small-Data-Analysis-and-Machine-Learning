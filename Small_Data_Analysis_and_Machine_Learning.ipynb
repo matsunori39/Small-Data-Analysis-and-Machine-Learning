{
  "nbformat": 4,
  "nbformat_minor": 0,
  "metadata": {
    "colab": {
      "name": "Small Data Analysis and Machine Learning.ipynb",
      "provenance": [],
      "authorship_tag": "ABX9TyOByKjRb+u86OQLZBYFJot5",
      "include_colab_link": true
    },
    "kernelspec": {
      "name": "python3",
      "display_name": "Python 3"
    },
    "language_info": {
      "name": "python"
    }
  },
  "cells": [
    {
      "cell_type": "markdown",
      "metadata": {
        "id": "view-in-github",
        "colab_type": "text"
      },
      "source": [
        "<a href=\"https://colab.research.google.com/github/matsunori39/Small-Data-Analysis-and-Machine-Learning/blob/main/Small_Data_Analysis_and_Machine_Learning.ipynb\" target=\"_parent\"><img src=\"https://colab.research.google.com/assets/colab-badge.svg\" alt=\"Open In Colab\"/></a>"
      ]
    },
    {
      "cell_type": "markdown",
      "source": [
        "https://www.ohmsha.co.jp/book/9784274227783/"
      ],
      "metadata": {
        "id": "tDmqFg3N7fh0"
      }
    },
    {
      "cell_type": "markdown",
      "source": [
        "# Chapter 2 Correlation and Principal Component Analysis"
      ],
      "metadata": {
        "id": "8CQtbjGG7oXI"
      }
    },
    {
      "cell_type": "markdown",
      "source": [
        "## 2.1 Data Preprocessing"
      ],
      "metadata": {
        "id": "Q75zoekG75_A"
      }
    },
    {
      "cell_type": "markdown",
      "source": [
        "### Data Standardization"
      ],
      "metadata": {
        "id": "9AVAOBgkle4s"
      }
    },
    {
      "cell_type": "code",
      "source": [
        "import numpy as np\n",
        "\n",
        "def autoscale(X):\n",
        "  \"\"\"\n",
        "  Standardize data matrix\n",
        "\n",
        "  Parameters\n",
        "  ------------\n",
        "  X: Data Matrix\n",
        "\n",
        "  Return Value\n",
        "  ------------\n",
        "  Xscale: Data matrix after standardization\n",
        "  meanX: mean vector\n",
        "  stdX: standard deviation vector\n",
        "  \"\"\"\n",
        "\n",
        "  meanX = np.mean(X, axis = 0)\n",
        "  stdX = np.std(X, axis = 0, ddof = 1)\n",
        "  Xscale = (X - meanX) / stdX\n",
        "  return Xscale, meanX, stdX\n",
        "\n",
        "def scaling(x, meanX, stdX):\n",
        "  \"\"\"\n",
        "  Standardizes the sample from mean and standard deviation of the data matrix\n",
        "\n",
        "  Parameters\n",
        "  ------------\n",
        "  x: Samples to be standardized\n",
        "  meanX: mean vector\n",
        "  stdX: standard deviation vector\n",
        "\n",
        "  Return Value\n",
        "  ------------\n",
        "  xscale: Sample after standardization\n",
        "  \"\"\"\n",
        "\n",
        "  xscale = (x - meanX) / stdX\n",
        "  return xscale\n",
        "\n",
        "def rescaling(xscale, meanX, stdX):\n",
        "  \"\"\"\n",
        "  Restore standardized samples to original scale\n",
        "\n",
        "  Parameters\n",
        "  ------------\n",
        "  xscale: Sample after standardization\n",
        "  meanX: mean vector\n",
        "  stdX: standard deviation vector\n",
        "\n",
        "  Return Value\n",
        "  ------------\n",
        "  xscale: Sample of original scale\n",
        "  \"\"\"\n",
        "\n",
        "  x = np.multiply(stdX, xscale) + meanX\n",
        "  return x"
      ],
      "metadata": {
        "id": "BTitvuT2lzDZ"
      },
      "execution_count": null,
      "outputs": []
    },
    {
      "cell_type": "markdown",
      "source": [
        "### Standardize data"
      ],
      "metadata": {
        "id": "IGFq0uQWBylX"
      }
    },
    {
      "cell_type": "code",
      "source": [
        "import numpy as np\n",
        "\n",
        "# Define existing data and unknown samples with ndarray type\n",
        "X = np.array([[1, 2, 3],\n",
        "              [4, 5, 6],\n",
        "              [7, 8, 9]])\n",
        "\n",
        "x = np.array([[10, 11, 12]])\n",
        "\n",
        "# Standardize X\n",
        "Xscale, meanX, stdX = autoscale(X)\n",
        "print(Xscale)"
      ],
      "metadata": {
        "id": "uv9kyKCtCJss",
        "colab": {
          "base_uri": "https://localhost:8080/"
        },
        "outputId": "d6743dd3-d8f9-482f-cacc-72db1fc7d6c7"
      },
      "execution_count": null,
      "outputs": [
        {
          "output_type": "stream",
          "name": "stdout",
          "text": [
            "[[-1. -1. -1.]\n",
            " [ 0.  0.  0.]\n",
            " [ 1.  1.  1.]]\n"
          ]
        }
      ]
    },
    {
      "cell_type": "code",
      "source": [
        "print(meanX)"
      ],
      "metadata": {
        "colab": {
          "base_uri": "https://localhost:8080/"
        },
        "id": "XomVS_A3Mn67",
        "outputId": "6331eeab-bdaf-4cfe-95c3-c3e3c7cd1aec"
      },
      "execution_count": null,
      "outputs": [
        {
          "output_type": "stream",
          "name": "stdout",
          "text": [
            "[4. 5. 6.]\n"
          ]
        }
      ]
    },
    {
      "cell_type": "code",
      "source": [
        "print(stdX)"
      ],
      "metadata": {
        "colab": {
          "base_uri": "https://localhost:8080/"
        },
        "id": "PeG9zu5CMp8J",
        "outputId": "05d6125c-4e41-481c-e0bb-088ffd7f61e1"
      },
      "execution_count": null,
      "outputs": [
        {
          "output_type": "stream",
          "name": "stdout",
          "text": [
            "[3. 3. 3.]\n"
          ]
        }
      ]
    },
    {
      "cell_type": "code",
      "source": [
        "# Stdndardize unknown samples\n",
        "xscale = scaling(x, meanX, stdX)\n",
        "print(xscale)"
      ],
      "metadata": {
        "colab": {
          "base_uri": "https://localhost:8080/"
        },
        "id": "iFuCGEemMrp2",
        "outputId": "2320986d-660e-4996-838b-18eb53c7dfb9"
      },
      "execution_count": null,
      "outputs": [
        {
          "output_type": "stream",
          "name": "stdout",
          "text": [
            "[[2. 2. 2.]]\n"
          ]
        }
      ]
    },
    {
      "cell_type": "code",
      "source": [
        "# Restore the standardized sample to its original scale\n",
        "xrescale = rescaling(xscale, meanX, stdX)\n",
        "print(xrescale)"
      ],
      "metadata": {
        "colab": {
          "base_uri": "https://localhost:8080/"
        },
        "id": "TUG7vF81M6HJ",
        "outputId": "058af577-ceea-4153-ecbc-23c77d79f0ee"
      },
      "execution_count": null,
      "outputs": [
        {
          "output_type": "stream",
          "name": "stdout",
          "text": [
            "[[10. 11. 12.]]\n"
          ]
        }
      ]
    },
    {
      "cell_type": "markdown",
      "source": [
        "## 2.8 Derivation of the rth principal component"
      ],
      "metadata": {
        "id": "SWLkaHyTNLMB"
      }
    },
    {
      "cell_type": "markdown",
      "source": [
        "### PCA program with eigenvalue problem"
      ],
      "metadata": {
        "id": "ur58q7TNQiLY"
      }
    },
    {
      "cell_type": "code",
      "source": [
        "import numpy as np\n",
        "\n",
        "def pca(X):\n",
        "  \"\"\"\n",
        "  Performs principal component analysis with eigenvalues\n",
        "\n",
        "  Parameter\n",
        "  ------------\n",
        "  X: Data Matrix\n",
        "\n",
        "  Return Values\n",
        "  ------------\n",
        "  P: Loading Matrix\n",
        "  t: Principal Component Score Matrix  \n",
        "  \"\"\"\n",
        "\n",
        "  # Computes the covariance matrix\n",
        "  V = np.cov(X.T)\n",
        "  # Solve the eigenvalue problem for the covariance matrix\n",
        "  _, P = np.linalg.eig(V)\n",
        "\n",
        "  # Calculate principal component scores\n",
        "  t = X @ P\n",
        "  return P, t"
      ],
      "metadata": {
        "id": "Ys4mB8TKQ9K_"
      },
      "execution_count": null,
      "outputs": []
    },
    {
      "cell_type": "markdown",
      "source": [
        "## 2.9 Examples of PCA values"
      ],
      "metadata": {
        "id": "3PnIIOBL4znV"
      }
    },
    {
      "cell_type": "code",
      "source": [
        "import numpy as np\n",
        "\n",
        "data = [[2, 2], [1, -1], [-1, 1], [-2, -2]]\n",
        "x = np.array(data)\n",
        "P, T = pca(x)\n",
        "\n",
        "print(P)"
      ],
      "metadata": {
        "colab": {
          "base_uri": "https://localhost:8080/"
        },
        "id": "RIfjDvM966K4",
        "outputId": "6a0bdc60-d129-4f75-c29b-44cc6d99040d"
      },
      "execution_count": null,
      "outputs": [
        {
          "output_type": "stream",
          "name": "stdout",
          "text": [
            "[[ 0.70710678 -0.70710678]\n",
            " [ 0.70710678  0.70710678]]\n"
          ]
        }
      ]
    },
    {
      "cell_type": "markdown",
      "source": [
        "## 2.12 PCA and Singular Value Decomposition"
      ],
      "metadata": {
        "id": "UTMgvRsck_9_"
      }
    },
    {
      "cell_type": "markdown",
      "source": [
        "### PCA using SVD"
      ],
      "metadata": {
        "id": "ZpB0ao0gXqAV"
      }
    },
    {
      "cell_type": "code",
      "source": [
        "import numpy as np\n",
        "\n",
        "def pca_svd(X):\n",
        "  \"\"\"\n",
        "  Perform principal component analysis using SVD\n",
        "\n",
        "  Parameter\n",
        "  ---------\n",
        "  X: Data Matrix\n",
        "\n",
        "  Return Values\n",
        "  ---------\n",
        "  P: Loading Matrix\n",
        "  t: Principal Component Score Matrix\n",
        "  \"\"\"\n",
        "\n",
        "  # Decompose a matrix into singular values\n",
        "  _, _, P = np.linalg.svd(X)\n",
        "\n",
        "  # Calculate principal component scores\n",
        "  t = X @ P.T\n",
        "  return P, t"
      ],
      "metadata": {
        "id": "SpI1fvH0X0DW"
      },
      "execution_count": null,
      "outputs": []
    },
    {
      "cell_type": "code",
      "source": [
        "P, t = pca_svd(np.array(data))\n",
        "print(P)"
      ],
      "metadata": {
        "colab": {
          "base_uri": "https://localhost:8080/"
        },
        "id": "688dSUorZFqB",
        "outputId": "06a14931-141b-421e-f81e-e598b616548c"
      },
      "execution_count": null,
      "outputs": [
        {
          "output_type": "stream",
          "name": "stdout",
          "text": [
            "[[-0.70710678 -0.70710678]\n",
            " [-0.70710678  0.70710678]]\n"
          ]
        }
      ]
    },
    {
      "cell_type": "markdown",
      "source": [
        "# Chapter 3 Regression Analysis and Least Squares Method"
      ],
      "metadata": {
        "id": "9Tp5DFtvZWGn"
      }
    },
    {
      "cell_type": "markdown",
      "source": [
        "## 3.2 Least Squares Method"
      ],
      "metadata": {
        "id": "7up3N6UUdpcw"
      }
    },
    {
      "cell_type": "code",
      "source": [
        "import numpy as np\n",
        "\n",
        "def least_squares(X, y):\n",
        "  \"\"\"\n",
        "  Calculate regression coefficients using the least squares method\n",
        "\n",
        "  Parameters\n",
        "  ----------\n",
        "  X: input data\n",
        "  y: output data\n",
        "\n",
        "  Return Value\n",
        "  ----------\n",
        "  beta: regression coefficient\n",
        "  \"\"\"\n",
        "\n",
        "  # Vectorize y\n",
        "  y = y.reshape(-1, 1)\n",
        "\n",
        "  # normal equation\n",
        "  beta = np.linalg.inv(X.T @ X) @ X.T @ y\n",
        "  return beta\n",
        "\n",
        "def ls_est(x, beta):\n",
        "  \"\"\"\n",
        "  Predicts output using a linear regression model\n",
        "\n",
        "  Parameters\n",
        "  ----------\n",
        "  x: unknown sample\n",
        "  beta: regression coefficient\n",
        "\n",
        "  Return Value\n",
        "  ----------\n",
        "  y_hat: Predicted value\n",
        "  \"\"\"\n",
        "\n",
        "  y_hat = beta.T @ x\n",
        "  return y_hat"
      ],
      "metadata": {
        "id": "Vl-L-8Nwdy5c"
      },
      "execution_count": null,
      "outputs": []
    },
    {
      "cell_type": "markdown",
      "source": [
        "### Numerical example of the least-squares method"
      ],
      "metadata": {
        "id": "33XJP5_-fmOs"
      }
    },
    {
      "cell_type": "code",
      "source": [
        "import numpy as np\n",
        "\n",
        "# Define data\n",
        "X = np.array([[0.01, 0.50, -0.12],\n",
        "              [0.97, -0.63, 0.02],\n",
        "              [0.41, 1.15, -1.17],\n",
        "              [-1.38, -1.02, 1.27]])\n",
        "\n",
        "y = np.array([[0.25], [0.08], [1.03], [-1.37]])\n",
        "x = np.array([1, 0.7, -0.2])\n",
        "\n",
        "# Find the regression coefficient\n",
        "beta = least_squares(X, y)\n",
        "print(beta)"
      ],
      "metadata": {
        "colab": {
          "base_uri": "https://localhost:8080/"
        },
        "id": "N50PKofJf1t0",
        "outputId": "8ad1a44c-cfef-480e-9da4-bc5a6135e56d"
      },
      "execution_count": null,
      "outputs": [
        {
          "output_type": "stream",
          "name": "stdout",
          "text": [
            "[[ 0.36347065]\n",
            " [ 0.41624871]\n",
            " [-0.34677593]]\n"
          ]
        }
      ]
    },
    {
      "cell_type": "code",
      "source": [
        "# Predicts output from unknown samples\n",
        "y_hat = ls_est(x, beta)\n",
        "print(y_hat)"
      ],
      "metadata": {
        "id": "tsmiuej4gZOK",
        "colab": {
          "base_uri": "https://localhost:8080/"
        },
        "outputId": "b438c4d7-81a9-4d55-82e5-935ef1b9c596"
      },
      "execution_count": null,
      "outputs": [
        {
          "output_type": "stream",
          "name": "stdout",
          "text": [
            "[0.72419993]\n"
          ]
        }
      ]
    },
    {
      "cell_type": "markdown",
      "source": [
        "## 3.7 Multicollinearity issues"
      ],
      "metadata": {
        "id": "cHS-9mp9JR15"
      }
    },
    {
      "cell_type": "code",
      "source": [
        "A = np.array([[2.01,   1 ],\n",
        "              [  4 , 2.01]])\n",
        "B = np.array([[1.99,   1 ],\n",
        "              [  4 , 2.02]])"
      ],
      "metadata": {
        "id": "m3c8RKj5LTA1"
      },
      "execution_count": null,
      "outputs": []
    },
    {
      "cell_type": "code",
      "source": [
        "np.linalg.inv(A)"
      ],
      "metadata": {
        "colab": {
          "base_uri": "https://localhost:8080/"
        },
        "id": "yQZ0ZDh0NR0g",
        "outputId": "2d35ecb3-faa6-4123-e74b-f6687a3f2499"
      },
      "execution_count": null,
      "outputs": [
        {
          "output_type": "execute_result",
          "data": {
            "text/plain": [
              "array([[ 50.12468828, -24.93765586],\n",
              "       [-99.75062344,  50.12468828]])"
            ]
          },
          "metadata": {},
          "execution_count": 45
        }
      ]
    },
    {
      "cell_type": "code",
      "source": [
        "np.linalg.inv(B)"
      ],
      "metadata": {
        "colab": {
          "base_uri": "https://localhost:8080/"
        },
        "id": "GzxO6juMNX7x",
        "outputId": "83998d02-fc6d-4c99-f598-808869708819"
      },
      "execution_count": null,
      "outputs": [
        {
          "output_type": "execute_result",
          "data": {
            "text/plain": [
              "array([[ 102.02020202,  -50.50505051],\n",
              "       [-202.02020202,  100.50505051]])"
            ]
          },
          "metadata": {},
          "execution_count": 46
        }
      ]
    },
    {
      "cell_type": "code",
      "source": [
        "C = np.array([[ 2 , 1 ],\n",
        "              [ 4 , 2 ]])"
      ],
      "metadata": {
        "id": "KG2k3mBTNaiq"
      },
      "execution_count": null,
      "outputs": []
    },
    {
      "cell_type": "code",
      "source": [
        "np.linalg.cond(A)"
      ],
      "metadata": {
        "colab": {
          "base_uri": "https://localhost:8080/"
        },
        "id": "wYgKJIDhNqPt",
        "outputId": "4e00be85-b3ee-4834-9db1-c9d60309e7b9"
      },
      "execution_count": null,
      "outputs": [
        {
          "output_type": "execute_result",
          "data": {
            "text/plain": [
              "625.4397976337879"
            ]
          },
          "metadata": {},
          "execution_count": 48
        }
      ]
    },
    {
      "cell_type": "code",
      "source": [
        "np.linalg.cond(B)"
      ],
      "metadata": {
        "colab": {
          "base_uri": "https://localhost:8080/"
        },
        "id": "MdmnM3oYNuif",
        "outputId": "30cfe729-b432-425d-b2e5-c5d735248b21"
      },
      "execution_count": null,
      "outputs": [
        {
          "output_type": "execute_result",
          "data": {
            "text/plain": [
              "1264.670926452252"
            ]
          },
          "metadata": {},
          "execution_count": 49
        }
      ]
    },
    {
      "cell_type": "code",
      "source": [
        "np.linalg.cond(C)"
      ],
      "metadata": {
        "colab": {
          "base_uri": "https://localhost:8080/"
        },
        "id": "fF3hyiTtNzaK",
        "outputId": "4fd93b3e-6520-4b42-ef84-428a6ccd0c22"
      },
      "execution_count": null,
      "outputs": [
        {
          "output_type": "execute_result",
          "data": {
            "text/plain": [
              "2.517588727560788e+16"
            ]
          },
          "metadata": {},
          "execution_count": 50
        }
      ]
    },
    {
      "cell_type": "markdown",
      "source": [
        "### For data without multicolinearity"
      ],
      "metadata": {
        "id": "Xn_9xMSzN0PV"
      }
    },
    {
      "cell_type": "code",
      "source": [
        "import numpy as np\n",
        "\n",
        "# Define data\n",
        "X1 = np.array([[0.01, 0.50, -0.12],\n",
        "               [0.97, -0.63, 0.02],\n",
        "               [0.41, 1.15, -1.17],\n",
        "               [-1.38, -1.02, 1.27]])\n",
        "\n",
        "X2 = np.array([[-0.01, 0.52, -0.12],\n",
        "               [0.96, -0.64, 0.03],\n",
        "               [0.43, 1.14, -1.17],\n",
        "               [-1.38, -1.01, 1.27]])"
      ],
      "metadata": {
        "id": "5QGhJm_POJMF"
      },
      "execution_count": null,
      "outputs": []
    },
    {
      "cell_type": "code",
      "source": [
        "np.linalg.cond(X1.T @ X1)"
      ],
      "metadata": {
        "colab": {
          "base_uri": "https://localhost:8080/"
        },
        "id": "i3nYr70Dm73K",
        "outputId": "b285d557-c5b8-4f39-cc0d-13dcd386e179"
      },
      "execution_count": null,
      "outputs": [
        {
          "output_type": "execute_result",
          "data": {
            "text/plain": [
              "135.7529385871794"
            ]
          },
          "metadata": {},
          "execution_count": 52
        }
      ]
    },
    {
      "cell_type": "code",
      "source": [
        "np.linalg.cond(X2.T @ X2)"
      ],
      "metadata": {
        "colab": {
          "base_uri": "https://localhost:8080/"
        },
        "id": "I_LbTNMInGeF",
        "outputId": "d3d8fc4f-373f-4b21-cc16-d9b3e3d925ff"
      },
      "execution_count": null,
      "outputs": [
        {
          "output_type": "execute_result",
          "data": {
            "text/plain": [
              "133.3934657598505"
            ]
          },
          "metadata": {},
          "execution_count": 53
        }
      ]
    },
    {
      "cell_type": "code",
      "source": [
        "y = np.array([[0.25], [0.08], [1.03], [-1.37]])\n",
        "\n",
        "# Calculate the regression coefficients for each of X1 and X2\n",
        "beta1 = least_squares(X1, y)\n",
        "print(beta1)"
      ],
      "metadata": {
        "colab": {
          "base_uri": "https://localhost:8080/"
        },
        "id": "b4BtnGCem5U5",
        "outputId": "dcc5a64f-6518-4819-e1a9-335e06a09be7"
      },
      "execution_count": null,
      "outputs": [
        {
          "output_type": "stream",
          "name": "stdout",
          "text": [
            "[[ 0.36347065]\n",
            " [ 0.41624871]\n",
            " [-0.34677593]]\n"
          ]
        }
      ]
    },
    {
      "cell_type": "code",
      "source": [
        "beta2 = least_squares(X2, y)\n",
        "print(beta2)"
      ],
      "metadata": {
        "colab": {
          "base_uri": "https://localhost:8080/"
        },
        "id": "6u3sc_S_l1uG",
        "outputId": "cd3b0c75-68b5-47ce-c14a-41d16e57f21d"
      },
      "execution_count": null,
      "outputs": [
        {
          "output_type": "stream",
          "name": "stdout",
          "text": [
            "[[ 0.37270979]\n",
            " [ 0.41379869]\n",
            " [-0.34252764]]\n"
          ]
        }
      ]
    },
    {
      "cell_type": "markdown",
      "source": [
        "### For multicolinear data"
      ],
      "metadata": {
        "id": "xW-O4J2_l7kB"
      }
    },
    {
      "cell_type": "code",
      "source": [
        "import numpy as np\n",
        "\n",
        "# Define data (※ 0.25 * column1 - 0.8 * column2 = column3)\n",
        "X1 = np.array([[-1.12, -0.51, 0.69],\n",
        "               [-0.43, -1.12, 1.02],\n",
        "               [0.37, 1.10, -0.98],\n",
        "               [1.19, 0.53, -0.73]])\n",
        "\n",
        "X2 = np.array([[-1.12, -0.51, 0.70],\n",
        "               [-0.43, -1.12, 1.01],\n",
        "               [0.36, 1.10, -0.98],\n",
        "               [1.20, 0.53, -0.73]])"
      ],
      "metadata": {
        "id": "NQR7GWSZnjrP"
      },
      "execution_count": null,
      "outputs": []
    },
    {
      "cell_type": "code",
      "source": [
        "np.linalg.cond(X1.T @ X1)"
      ],
      "metadata": {
        "colab": {
          "base_uri": "https://localhost:8080/"
        },
        "id": "qxhG_c2wo9NI",
        "outputId": "538b3a2c-fdc3-498c-a480-e5b1993a2fe5"
      },
      "execution_count": null,
      "outputs": [
        {
          "output_type": "execute_result",
          "data": {
            "text/plain": [
              "235456.75658377822"
            ]
          },
          "metadata": {},
          "execution_count": 57
        }
      ]
    },
    {
      "cell_type": "code",
      "source": [
        "np.linalg.cond(X2.T @ X2)"
      ],
      "metadata": {
        "colab": {
          "base_uri": "https://localhost:8080/"
        },
        "id": "v7zyEYJCo_8X",
        "outputId": "03ba5380-f7cf-4d9f-d5e3-fa964f16b634"
      },
      "execution_count": null,
      "outputs": [
        {
          "output_type": "execute_result",
          "data": {
            "text/plain": [
              "470649.9730137264"
            ]
          },
          "metadata": {},
          "execution_count": 58
        }
      ]
    },
    {
      "cell_type": "code",
      "source": [
        "y = np.array([0.4, 1.17, -1.14, -0.42])\n",
        "\n",
        "# Calculate the regression coefficients for each of X1 and X2\n",
        "beta1 = least_squares(X1, y)\n",
        "print(beta1)"
      ],
      "metadata": {
        "colab": {
          "base_uri": "https://localhost:8080/"
        },
        "id": "M2fKWED1pCl-",
        "outputId": "387fbe6d-3189-41f1-ab6c-edebb36f734c"
      },
      "execution_count": null,
      "outputs": [
        {
          "output_type": "stream",
          "name": "stdout",
          "text": [
            "[[0.54496962]\n",
            " [0.24094799]\n",
            " [1.64044474]]\n"
          ]
        }
      ]
    },
    {
      "cell_type": "code",
      "source": [
        "beta2 = least_squares(X2, y)\n",
        "print(beta2)"
      ],
      "metadata": {
        "colab": {
          "base_uri": "https://localhost:8080/"
        },
        "id": "qig6qz2gpYh_",
        "outputId": "b7df82c6-4930-41e9-ffb3-55f092e5e972"
      },
      "execution_count": null,
      "outputs": [
        {
          "output_type": "stream",
          "name": "stdout",
          "text": [
            "[[-0.42794288]\n",
            " [-2.86298696]\n",
            " [-2.2029719 ]]\n"
          ]
        }
      ]
    },
    {
      "cell_type": "markdown",
      "source": [
        "## 3.10 Principal Component Regression (PCR)"
      ],
      "metadata": {
        "id": "Rh9LlNL-pbx3"
      }
    },
    {
      "cell_type": "code",
      "source": [
        "import numpy as np\n",
        "\n",
        "def pcr(X, y, R):\n",
        "  \"\"\"\n",
        "  Calculate regression coefficients using PCR\n",
        "\n",
        "  Parameters\n",
        "  ----------\n",
        "  X: Input Data\n",
        "  y: Output Data\n",
        "  R: Number of Principal Components\n",
        "\n",
        "  Return Values\n",
        "  ----------\n",
        "  beta: Regression Coefficient\n",
        "  \"\"\"\n",
        "\n",
        "  # Vectorize y\n",
        "  y = y.reshape(-1, 1)\n",
        "\n",
        "  # (Number of conditions before PCA)\n",
        "  print(f\"Number of conditions before PCA\", np.linalg.cond(X.T @ X))\n",
        "\n",
        "  # Principal Component Analysis\n",
        "  P, T = pca(X)\n",
        "\n",
        "  # Extract the principal component score matrices up to the Rth\n",
        "  T = T[:,:R]\n",
        "\n",
        "  # (Number of conditions after PCA)\n",
        "  print(f\"Number of conditions after PCA\", np.linalg.cond(T.T @ T))\n",
        "\n",
        "  # Find the regression coefficient by the least squares method\n",
        "  beta_R = least_squares(T, y)\n",
        "  beta = P[:,:R] @ beta_R\n",
        "  return beta"
      ],
      "metadata": {
        "id": "th0SeKhmAz0m"
      },
      "execution_count": null,
      "outputs": []
    },
    {
      "cell_type": "markdown",
      "source": [
        "### If the number of principal components is 2"
      ],
      "metadata": {
        "id": "b_EvKMoKU1Ba"
      }
    },
    {
      "cell_type": "code",
      "source": [
        "import numpy as np\n",
        "\n",
        "# Define data (※ 0.25 * column1 - 0.8 * column2 = column3)\n",
        "X1 = np.array([[-1.12, -0.51, 0.69],\n",
        "               [-0.43, -1.12, 1.02],\n",
        "               [0.37, 1.10, -0.98],\n",
        "               [1.19, 0.53, -0.73]])\n",
        "\n",
        "X2 = np.array([[-1.12, -0.51, 0.70],\n",
        "               [-0.43, -1.12, 1.01],\n",
        "               [0.36, 1.10, -0.98],\n",
        "               [1.20, 0.53, -0.73]])"
      ],
      "metadata": {
        "id": "yTPgxFveV0-f"
      },
      "execution_count": null,
      "outputs": []
    },
    {
      "cell_type": "code",
      "source": [
        "y = np.array([0.4, 1.17, -1.14, -0.42]) "
      ],
      "metadata": {
        "id": "Z_uFLCXtXRuk"
      },
      "execution_count": null,
      "outputs": []
    },
    {
      "cell_type": "code",
      "source": [
        "# Set the number of principal components to 2\n",
        "R = 2\n",
        "\n",
        "beta1 = pcr(X1, y, R)"
      ],
      "metadata": {
        "colab": {
          "base_uri": "https://localhost:8080/"
        },
        "id": "uTd7X57aXcIG",
        "outputId": "cfd049b9-8f6d-4cb1-8542-b393c8b6bc92"
      },
      "execution_count": null,
      "outputs": [
        {
          "output_type": "stream",
          "name": "stdout",
          "text": [
            "Number of conditions before PCA 235456.75658377822\n",
            "Number of conditions after PCA 8.080825169090927\n"
          ]
        }
      ]
    },
    {
      "cell_type": "code",
      "source": [
        "print(beta1)"
      ],
      "metadata": {
        "colab": {
          "base_uri": "https://localhost:8080/"
        },
        "id": "tJP0yaJGXoaZ",
        "outputId": "4824f0f6-9868-4b73-8bae-9cc683d048c1"
      },
      "execution_count": null,
      "outputs": [
        {
          "output_type": "stream",
          "name": "stdout",
          "text": [
            "[[ 0.25849154]\n",
            " [-0.68874152]\n",
            " [ 0.49387146]]\n"
          ]
        }
      ]
    },
    {
      "cell_type": "code",
      "source": [
        "beta2 = pcr(X2, y, R)"
      ],
      "metadata": {
        "colab": {
          "base_uri": "https://localhost:8080/"
        },
        "id": "Bm3XJqfeXtC1",
        "outputId": "00cfeb8f-2371-4d35-f22c-02d5928f86c0"
      },
      "execution_count": null,
      "outputs": [
        {
          "output_type": "stream",
          "name": "stdout",
          "text": [
            "Number of conditions before PCA 470649.9730137264\n",
            "Number of conditions after PCA 7.975485263932513\n"
          ]
        }
      ]
    },
    {
      "cell_type": "code",
      "source": [
        "print(beta2)"
      ],
      "metadata": {
        "id": "SFlchwPTXy_r",
        "outputId": "84c5f922-4869-4af0-e49a-1e766e274b35",
        "colab": {
          "base_uri": "https://localhost:8080/"
        }
      },
      "execution_count": null,
      "outputs": [
        {
          "output_type": "stream",
          "name": "stdout",
          "text": [
            "[[ 0.25929082]\n",
            " [-0.69212429]\n",
            " [ 0.49149105]]\n"
          ]
        }
      ]
    },
    {
      "cell_type": "code",
      "source": [
        ""
      ],
      "metadata": {
        "id": "gy7zHd4YX1Bf"
      },
      "execution_count": null,
      "outputs": []
    }
  ]
}