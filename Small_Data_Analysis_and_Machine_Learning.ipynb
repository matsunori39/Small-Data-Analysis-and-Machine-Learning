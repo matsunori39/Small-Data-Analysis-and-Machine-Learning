{
  "nbformat": 4,
  "nbformat_minor": 0,
  "metadata": {
    "colab": {
      "name": "Small Data Analysis and Machine Learning.ipynb",
      "provenance": [],
      "authorship_tag": "ABX9TyMRxc3bB8T8CO9C3P0WzZEV",
      "include_colab_link": true
    },
    "kernelspec": {
      "name": "python3",
      "display_name": "Python 3"
    },
    "language_info": {
      "name": "python"
    }
  },
  "cells": [
    {
      "cell_type": "markdown",
      "metadata": {
        "id": "view-in-github",
        "colab_type": "text"
      },
      "source": [
        "<a href=\"https://colab.research.google.com/github/matsunori39/Small-Data-Analysis-and-Machine-Learning/blob/main/Small_Data_Analysis_and_Machine_Learning.ipynb\" target=\"_parent\"><img src=\"https://colab.research.google.com/assets/colab-badge.svg\" alt=\"Open In Colab\"/></a>"
      ]
    },
    {
      "cell_type": "markdown",
      "source": [
        "https://www.ohmsha.co.jp/book/9784274227783/"
      ],
      "metadata": {
        "id": "tDmqFg3N7fh0"
      }
    },
    {
      "cell_type": "markdown",
      "source": [
        "# Chapter 2 Correlation and Principal Component Analysis"
      ],
      "metadata": {
        "id": "8CQtbjGG7oXI"
      }
    },
    {
      "cell_type": "markdown",
      "source": [
        "## 2.1 Data Preprocessing"
      ],
      "metadata": {
        "id": "Q75zoekG75_A"
      }
    },
    {
      "cell_type": "markdown",
      "source": [
        "### Data Standardization"
      ],
      "metadata": {
        "id": "9AVAOBgkle4s"
      }
    },
    {
      "cell_type": "code",
      "source": [
        "import numpy as np\n",
        "\n",
        "def autoscale(X):\n",
        "  \"\"\"\n",
        "  Standardize data matrix\n",
        "\n",
        "  Parameters\n",
        "  ------------\n",
        "  X: Data Matrix\n",
        "\n",
        "  Return Value\n",
        "  ------------\n",
        "  Xscale: Data matrix after standardization\n",
        "  meanX: mean vector\n",
        "  stdX: standard deviation vector\n",
        "  \"\"\"\n",
        "\n",
        "  meanX = np.mean(X, axis = 0)\n",
        "  stdX = np.std(X, axis = 0, ddof = 1)\n",
        "  Xscale = (X - meanX) / stdX\n",
        "  return Xscale, meanX, stdX\n",
        "\n",
        "def scaling(x, meanX, stdX):\n",
        "  \"\"\"\n",
        "  Standardizes the sample from mean and standard deviation of the data matrix\n",
        "\n",
        "  Parameters\n",
        "  ------------\n",
        "  x: Samples to be standardized\n",
        "  meanX: mean vector\n",
        "  stdX: standard deviation vector\n",
        "\n",
        "  Return Value\n",
        "  ------------\n",
        "  xscale: Sample after standardization\n",
        "  \"\"\"\n",
        "\n",
        "  xscale = (x - meanX) / stdX\n",
        "  return xscale\n",
        "\n",
        "def rescaling(xscale, meanX, stdX):\n",
        "  \"\"\"\n",
        "  Restore standardized samples to original scale\n",
        "\n",
        "  Parameters\n",
        "  ------------\n",
        "  xscale: Sample after standardization\n",
        "  meanX: mean vector\n",
        "  stdX: standard deviation vector\n",
        "\n",
        "  Return Value\n",
        "  ------------\n",
        "  xscale: Sample of original scale\n",
        "  \"\"\"\n",
        "\n",
        "  x = np.multiply(stdX, xscale) + meanX\n",
        "  return x"
      ],
      "metadata": {
        "id": "BTitvuT2lzDZ"
      },
      "execution_count": 69,
      "outputs": []
    },
    {
      "cell_type": "markdown",
      "source": [
        "### Standardize data"
      ],
      "metadata": {
        "id": "IGFq0uQWBylX"
      }
    },
    {
      "cell_type": "code",
      "source": [
        "import numpy as np\n",
        "\n",
        "# Define existing data and unknown samples with ndarray type\n",
        "X = np.array([[1, 2, 3],\n",
        "              [4, 5, 6],\n",
        "              [7, 8, 9]])\n",
        "\n",
        "x = np.array([[10, 11, 12]])\n",
        "\n",
        "# Standardize X\n",
        "Xscale, meanX, stdX = autoscale(X)\n",
        "print(Xscale)"
      ],
      "metadata": {
        "id": "uv9kyKCtCJss",
        "colab": {
          "base_uri": "https://localhost:8080/"
        },
        "outputId": "554135a3-159d-44a3-a729-23a96ed282c0"
      },
      "execution_count": 70,
      "outputs": [
        {
          "output_type": "stream",
          "name": "stdout",
          "text": [
            "[[-1. -1. -1.]\n",
            " [ 0.  0.  0.]\n",
            " [ 1.  1.  1.]]\n"
          ]
        }
      ]
    },
    {
      "cell_type": "code",
      "source": [
        "print(meanX)"
      ],
      "metadata": {
        "colab": {
          "base_uri": "https://localhost:8080/"
        },
        "id": "XomVS_A3Mn67",
        "outputId": "d32741eb-7d40-432b-c2a2-8a2d3ddf62dd"
      },
      "execution_count": 71,
      "outputs": [
        {
          "output_type": "stream",
          "name": "stdout",
          "text": [
            "[4. 5. 6.]\n"
          ]
        }
      ]
    },
    {
      "cell_type": "code",
      "source": [
        "print(stdX)"
      ],
      "metadata": {
        "colab": {
          "base_uri": "https://localhost:8080/"
        },
        "id": "PeG9zu5CMp8J",
        "outputId": "7fa18435-100f-4b92-e9c1-f81f6a8f3bc8"
      },
      "execution_count": 72,
      "outputs": [
        {
          "output_type": "stream",
          "name": "stdout",
          "text": [
            "[3. 3. 3.]\n"
          ]
        }
      ]
    },
    {
      "cell_type": "code",
      "source": [
        "# Stdndardize unknown samples\n",
        "xscale = scaling(x, meanX, stdX)\n",
        "print(xscale)"
      ],
      "metadata": {
        "colab": {
          "base_uri": "https://localhost:8080/"
        },
        "id": "iFuCGEemMrp2",
        "outputId": "f30ec47b-b215-4624-be0a-4b1f30c9e3e7"
      },
      "execution_count": 73,
      "outputs": [
        {
          "output_type": "stream",
          "name": "stdout",
          "text": [
            "[[2. 2. 2.]]\n"
          ]
        }
      ]
    },
    {
      "cell_type": "code",
      "source": [
        "# Restore the standardized sample to its original scale\n",
        "xrescale = rescaling(xscale, meanX, stdX)\n",
        "print(xrescale)"
      ],
      "metadata": {
        "colab": {
          "base_uri": "https://localhost:8080/"
        },
        "id": "TUG7vF81M6HJ",
        "outputId": "767be447-872e-45f2-d721-5059bd782478"
      },
      "execution_count": 74,
      "outputs": [
        {
          "output_type": "stream",
          "name": "stdout",
          "text": [
            "[[10. 11. 12.]]\n"
          ]
        }
      ]
    },
    {
      "cell_type": "markdown",
      "source": [
        "## 2.8 Derivation of the rth principal component"
      ],
      "metadata": {
        "id": "SWLkaHyTNLMB"
      }
    },
    {
      "cell_type": "markdown",
      "source": [
        "### PCA program with eigenvalue problem"
      ],
      "metadata": {
        "id": "ur58q7TNQiLY"
      }
    },
    {
      "cell_type": "code",
      "source": [
        "import numpy as np\n",
        "\n",
        "def pca(X):\n",
        "  \"\"\"\n",
        "  Performs principal component analysis with eigenvalues\n",
        "\n",
        "  Parameter\n",
        "  ------------\n",
        "  X: Data Matrix\n",
        "\n",
        "  Return Values\n",
        "  ------------\n",
        "  P: Loading Matrix\n",
        "  t: Principal Component Score Matrix  \n",
        "  \"\"\"\n",
        "\n",
        "  # Computes the covariance matrix\n",
        "  V = np.cov(X.T)\n",
        "  # Solve the eigenvalue problem for the covariance matrix\n",
        "  _, P = np.linalg.eig(V)\n",
        "\n",
        "  # Calculate principal component scores\n",
        "  t = X @ P\n",
        "  return P, t"
      ],
      "metadata": {
        "id": "Ys4mB8TKQ9K_"
      },
      "execution_count": 75,
      "outputs": []
    },
    {
      "cell_type": "markdown",
      "source": [
        "## 2.9 Examples of PCA values"
      ],
      "metadata": {
        "id": "3PnIIOBL4znV"
      }
    },
    {
      "cell_type": "code",
      "source": [
        "import numpy as np\n",
        "\n",
        "data = [[2, 2], [1, -1], [-1, 1], [-2, -2]]\n",
        "x = np.array(data)\n",
        "P, T = pca(x)\n",
        "\n",
        "print(P)"
      ],
      "metadata": {
        "colab": {
          "base_uri": "https://localhost:8080/"
        },
        "id": "RIfjDvM966K4",
        "outputId": "a7dcb9d5-b134-4049-ea59-4f421a46ce93"
      },
      "execution_count": 76,
      "outputs": [
        {
          "output_type": "stream",
          "name": "stdout",
          "text": [
            "[[ 0.70710678 -0.70710678]\n",
            " [ 0.70710678  0.70710678]]\n"
          ]
        }
      ]
    },
    {
      "cell_type": "markdown",
      "source": [
        "## 2.12 PCA and Singular Value Decomposition"
      ],
      "metadata": {
        "id": "UTMgvRsck_9_"
      }
    },
    {
      "cell_type": "markdown",
      "source": [
        "### PCA using SVD"
      ],
      "metadata": {
        "id": "ZpB0ao0gXqAV"
      }
    },
    {
      "cell_type": "code",
      "source": [
        "import numpy as np\n",
        "\n",
        "def pca_svd(X):\n",
        "  \"\"\"\n",
        "  Perform principal component analysis using SVD\n",
        "\n",
        "  Parameter\n",
        "  ---------\n",
        "  X: Data Matrix\n",
        "\n",
        "  Return Values\n",
        "  ---------\n",
        "  P: Loading Matrix\n",
        "  t: Principal Component Score Matrix\n",
        "  \"\"\"\n",
        "\n",
        "  # Decompose a matrix into singular values\n",
        "  _, _, P = np.linalg.svd(X)\n",
        "\n",
        "  # Calculate principal component scores\n",
        "  t = X @ P.T\n",
        "  return P, t"
      ],
      "metadata": {
        "id": "SpI1fvH0X0DW"
      },
      "execution_count": 77,
      "outputs": []
    },
    {
      "cell_type": "code",
      "source": [
        "P, t = pca_svd(np.array(data))\n",
        "print(P)"
      ],
      "metadata": {
        "colab": {
          "base_uri": "https://localhost:8080/"
        },
        "id": "688dSUorZFqB",
        "outputId": "6ae60596-2821-453a-d627-35f5f26881ee"
      },
      "execution_count": 78,
      "outputs": [
        {
          "output_type": "stream",
          "name": "stdout",
          "text": [
            "[[-0.70710678 -0.70710678]\n",
            " [-0.70710678  0.70710678]]\n"
          ]
        }
      ]
    },
    {
      "cell_type": "markdown",
      "source": [
        "# Chapter 3 Regression Analysis and Least Squares Method"
      ],
      "metadata": {
        "id": "9Tp5DFtvZWGn"
      }
    },
    {
      "cell_type": "markdown",
      "source": [
        "## 3.2 Least Squares Method"
      ],
      "metadata": {
        "id": "7up3N6UUdpcw"
      }
    },
    {
      "cell_type": "code",
      "source": [
        "import numpy as np\n",
        "\n",
        "def least_squares(X, y):\n",
        "  \"\"\"\n",
        "  Calculate regression coefficients using the least squares method\n",
        "\n",
        "  Parameters\n",
        "  ----------\n",
        "  X: input data\n",
        "  y: output data\n",
        "\n",
        "  Return Value\n",
        "  ----------\n",
        "  beta: regression coefficient\n",
        "  \"\"\"\n",
        "\n",
        "  # Vectorize y\n",
        "  y = y.reshape(-1, 1)\n",
        "\n",
        "  # normal equation\n",
        "  beta = np.linalg.inv(X.T @ X) @ X.T @ y\n",
        "  return beta\n",
        "\n",
        "def ls_est(x, beta):\n",
        "  \"\"\"\n",
        "  Predicts output using a linear regression model\n",
        "\n",
        "  Parameters\n",
        "  ----------\n",
        "  x: unknown sample\n",
        "  beta: regression coefficient\n",
        "\n",
        "  Return Value\n",
        "  ----------\n",
        "  y_hat: Predicted value\n",
        "  \"\"\"\n",
        "\n",
        "  y_hat = beta.T @ x\n",
        "  return y_hat"
      ],
      "metadata": {
        "id": "Vl-L-8Nwdy5c"
      },
      "execution_count": 79,
      "outputs": []
    },
    {
      "cell_type": "markdown",
      "source": [
        "### Numerical example of the least-squares method"
      ],
      "metadata": {
        "id": "33XJP5_-fmOs"
      }
    },
    {
      "cell_type": "code",
      "source": [
        "import numpy as np\n",
        "\n",
        "# Define data\n",
        "X = np.array([[0.01, 0.50, -0.12],\n",
        "              [0.97, -0.63, 0.02],\n",
        "              [0.41, 1.15, -1.17],\n",
        "              [-1.38, -1.02, 1.27]])\n",
        "\n",
        "y = np.array([[0.25], [0.08], [1.03], [-1.37]])\n",
        "x = np.array([1, 0.7, -0.2])\n",
        "\n",
        "# Find the regression coefficient\n",
        "beta = least_squares(X, y)\n",
        "print(beta)"
      ],
      "metadata": {
        "colab": {
          "base_uri": "https://localhost:8080/"
        },
        "id": "N50PKofJf1t0",
        "outputId": "7680c45a-2cfd-4852-9242-4b54e90ecc41"
      },
      "execution_count": 80,
      "outputs": [
        {
          "output_type": "stream",
          "name": "stdout",
          "text": [
            "[[ 0.36347065]\n",
            " [ 0.41624871]\n",
            " [-0.34677593]]\n"
          ]
        }
      ]
    },
    {
      "cell_type": "code",
      "source": [
        "# Predicts output from unknown samples\n",
        "y_hat = ls_est(x, beta)\n",
        "print(y_hat)"
      ],
      "metadata": {
        "id": "tsmiuej4gZOK",
        "colab": {
          "base_uri": "https://localhost:8080/"
        },
        "outputId": "f515b015-0b3b-4838-d48e-b3ab5ab69415"
      },
      "execution_count": 81,
      "outputs": [
        {
          "output_type": "stream",
          "name": "stdout",
          "text": [
            "[0.72419993]\n"
          ]
        }
      ]
    },
    {
      "cell_type": "markdown",
      "source": [
        "## 3.7 Multicollinearity issues"
      ],
      "metadata": {
        "id": "cHS-9mp9JR15"
      }
    },
    {
      "cell_type": "code",
      "source": [
        "A = np.array([[2.01,   1 ],\n",
        "              [  4 , 2.01]])\n",
        "B = np.array([[1.99,   1 ],\n",
        "              [  4 , 2.02]])"
      ],
      "metadata": {
        "id": "m3c8RKj5LTA1"
      },
      "execution_count": 82,
      "outputs": []
    },
    {
      "cell_type": "code",
      "source": [
        "np.linalg.inv(A)"
      ],
      "metadata": {
        "colab": {
          "base_uri": "https://localhost:8080/"
        },
        "id": "yQZ0ZDh0NR0g",
        "outputId": "9f669a46-0ceb-4017-e315-96bbc4bce3a3"
      },
      "execution_count": 83,
      "outputs": [
        {
          "output_type": "execute_result",
          "data": {
            "text/plain": [
              "array([[ 50.12468828, -24.93765586],\n",
              "       [-99.75062344,  50.12468828]])"
            ]
          },
          "metadata": {},
          "execution_count": 83
        }
      ]
    },
    {
      "cell_type": "code",
      "source": [
        "np.linalg.inv(B)"
      ],
      "metadata": {
        "colab": {
          "base_uri": "https://localhost:8080/"
        },
        "id": "GzxO6juMNX7x",
        "outputId": "9ae07394-c77d-401d-d7a1-1017d394db2e"
      },
      "execution_count": 84,
      "outputs": [
        {
          "output_type": "execute_result",
          "data": {
            "text/plain": [
              "array([[ 102.02020202,  -50.50505051],\n",
              "       [-202.02020202,  100.50505051]])"
            ]
          },
          "metadata": {},
          "execution_count": 84
        }
      ]
    },
    {
      "cell_type": "code",
      "source": [
        "C = np.array([[ 2 , 1 ],\n",
        "              [ 4 , 2 ]])"
      ],
      "metadata": {
        "id": "KG2k3mBTNaiq"
      },
      "execution_count": 85,
      "outputs": []
    },
    {
      "cell_type": "code",
      "source": [
        "np.linalg.cond(A)"
      ],
      "metadata": {
        "colab": {
          "base_uri": "https://localhost:8080/"
        },
        "id": "wYgKJIDhNqPt",
        "outputId": "041fef3c-1e8f-48f8-d8b1-77acf376a955"
      },
      "execution_count": 86,
      "outputs": [
        {
          "output_type": "execute_result",
          "data": {
            "text/plain": [
              "625.4397976337879"
            ]
          },
          "metadata": {},
          "execution_count": 86
        }
      ]
    },
    {
      "cell_type": "code",
      "source": [
        "np.linalg.cond(B)"
      ],
      "metadata": {
        "colab": {
          "base_uri": "https://localhost:8080/"
        },
        "id": "MdmnM3oYNuif",
        "outputId": "59cf2b87-4b85-485e-9d37-d81a5ca328cd"
      },
      "execution_count": 87,
      "outputs": [
        {
          "output_type": "execute_result",
          "data": {
            "text/plain": [
              "1264.670926452252"
            ]
          },
          "metadata": {},
          "execution_count": 87
        }
      ]
    },
    {
      "cell_type": "code",
      "source": [
        "np.linalg.cond(C)"
      ],
      "metadata": {
        "colab": {
          "base_uri": "https://localhost:8080/"
        },
        "id": "fF3hyiTtNzaK",
        "outputId": "440d6d1d-6b70-45db-c629-32e94bae2372"
      },
      "execution_count": 88,
      "outputs": [
        {
          "output_type": "execute_result",
          "data": {
            "text/plain": [
              "2.517588727560788e+16"
            ]
          },
          "metadata": {},
          "execution_count": 88
        }
      ]
    },
    {
      "cell_type": "markdown",
      "source": [
        "### For data without multicolinearity"
      ],
      "metadata": {
        "id": "Xn_9xMSzN0PV"
      }
    },
    {
      "cell_type": "code",
      "source": [
        "import numpy as np\n",
        "\n",
        "# Define data\n",
        "X1 = np.array([[0.01, 0.50, -0.12],\n",
        "               [0.97, -0.63, 0.02],\n",
        "               [0.41, 1.15, -1.17],\n",
        "               [-1.38, -1.02, 1.27]])\n",
        "\n",
        "X2 = np.array([[-0.01, 0.52, -0.12],\n",
        "               [0.96, -0.64, 0.03],\n",
        "               [0.43, 1.14, -1.17],\n",
        "               [-1.38, -1.01, 1.27]])"
      ],
      "metadata": {
        "id": "5QGhJm_POJMF"
      },
      "execution_count": 89,
      "outputs": []
    },
    {
      "cell_type": "code",
      "source": [
        "np.linalg.cond(X1.T @ X1)"
      ],
      "metadata": {
        "colab": {
          "base_uri": "https://localhost:8080/"
        },
        "id": "i3nYr70Dm73K",
        "outputId": "a698a374-803c-4c9d-a772-1b0b14e79000"
      },
      "execution_count": 90,
      "outputs": [
        {
          "output_type": "execute_result",
          "data": {
            "text/plain": [
              "135.7529385871794"
            ]
          },
          "metadata": {},
          "execution_count": 90
        }
      ]
    },
    {
      "cell_type": "code",
      "source": [
        "np.linalg.cond(X2.T @ X2)"
      ],
      "metadata": {
        "colab": {
          "base_uri": "https://localhost:8080/"
        },
        "id": "I_LbTNMInGeF",
        "outputId": "4ce6cbb2-1d81-4225-b672-491aafc7e098"
      },
      "execution_count": 91,
      "outputs": [
        {
          "output_type": "execute_result",
          "data": {
            "text/plain": [
              "133.3934657598505"
            ]
          },
          "metadata": {},
          "execution_count": 91
        }
      ]
    },
    {
      "cell_type": "code",
      "source": [
        "y = np.array([[0.25], [0.08], [1.03], [-1.37]])\n",
        "\n",
        "# Calculate the regression coefficients for each of X1 and X2\n",
        "beta1 = least_squares(X1, y)\n",
        "print(beta1)"
      ],
      "metadata": {
        "colab": {
          "base_uri": "https://localhost:8080/"
        },
        "id": "b4BtnGCem5U5",
        "outputId": "733974fd-8e6b-4896-8bc3-5ad6e046b227"
      },
      "execution_count": 92,
      "outputs": [
        {
          "output_type": "stream",
          "name": "stdout",
          "text": [
            "[[ 0.36347065]\n",
            " [ 0.41624871]\n",
            " [-0.34677593]]\n"
          ]
        }
      ]
    },
    {
      "cell_type": "code",
      "source": [
        "beta2 = least_squares(X2, y)\n",
        "print(beta2)"
      ],
      "metadata": {
        "colab": {
          "base_uri": "https://localhost:8080/"
        },
        "id": "6u3sc_S_l1uG",
        "outputId": "0aa9cfd8-a25e-4d49-82d7-58f7ca078629"
      },
      "execution_count": 93,
      "outputs": [
        {
          "output_type": "stream",
          "name": "stdout",
          "text": [
            "[[ 0.37270979]\n",
            " [ 0.41379869]\n",
            " [-0.34252764]]\n"
          ]
        }
      ]
    },
    {
      "cell_type": "markdown",
      "source": [
        "### For multicolinear data"
      ],
      "metadata": {
        "id": "xW-O4J2_l7kB"
      }
    },
    {
      "cell_type": "code",
      "source": [
        "import numpy as np\n",
        "\n",
        "# Define data (※ 0.25 * column1 - 0.8 * column2 = column3)\n",
        "X1 = np.array([[-1.12, -0.51, 0.69],\n",
        "               [-0.43, -1.12, 1.02],\n",
        "               [0.37, 1.10, -0.98],\n",
        "               [1.19, 0.53, -0.73]])\n",
        "\n",
        "X2 = np.array([[-1.12, -0.51, 0.70],\n",
        "               [-0.43, -1.12, 1.01],\n",
        "               [0.36, 1.10, -0.98],\n",
        "               [1.20, 0.53, -0.73]])"
      ],
      "metadata": {
        "id": "NQR7GWSZnjrP"
      },
      "execution_count": 94,
      "outputs": []
    },
    {
      "cell_type": "code",
      "source": [
        "np.linalg.cond(X1.T @ X1)"
      ],
      "metadata": {
        "colab": {
          "base_uri": "https://localhost:8080/"
        },
        "id": "qxhG_c2wo9NI",
        "outputId": "56d76b1f-35eb-4722-dcff-1a2da844bc2b"
      },
      "execution_count": 95,
      "outputs": [
        {
          "output_type": "execute_result",
          "data": {
            "text/plain": [
              "235456.75658377822"
            ]
          },
          "metadata": {},
          "execution_count": 95
        }
      ]
    },
    {
      "cell_type": "code",
      "source": [
        "np.linalg.cond(X2.T @ X2)"
      ],
      "metadata": {
        "colab": {
          "base_uri": "https://localhost:8080/"
        },
        "id": "v7zyEYJCo_8X",
        "outputId": "16b86cf9-4bc7-4c56-9440-cae5cd899697"
      },
      "execution_count": 96,
      "outputs": [
        {
          "output_type": "execute_result",
          "data": {
            "text/plain": [
              "470649.9730137264"
            ]
          },
          "metadata": {},
          "execution_count": 96
        }
      ]
    },
    {
      "cell_type": "code",
      "source": [
        "y = np.array([0.4, 1.17, -1.14, -0.42])\n",
        "\n",
        "# Calculate the regression coefficients for each of X1 and X2\n",
        "beta1 = least_squares(X1, y)\n",
        "print(beta1)"
      ],
      "metadata": {
        "colab": {
          "base_uri": "https://localhost:8080/"
        },
        "id": "M2fKWED1pCl-",
        "outputId": "2bad70e5-94c7-4a9c-95e4-62e6a32a7197"
      },
      "execution_count": 97,
      "outputs": [
        {
          "output_type": "stream",
          "name": "stdout",
          "text": [
            "[[0.54496962]\n",
            " [0.24094799]\n",
            " [1.64044474]]\n"
          ]
        }
      ]
    },
    {
      "cell_type": "code",
      "source": [
        "beta2 = least_squares(X2, y)\n",
        "print(beta2)"
      ],
      "metadata": {
        "colab": {
          "base_uri": "https://localhost:8080/"
        },
        "id": "qig6qz2gpYh_",
        "outputId": "00f5458c-9fde-4bd1-c4b4-9b5150109322"
      },
      "execution_count": 98,
      "outputs": [
        {
          "output_type": "stream",
          "name": "stdout",
          "text": [
            "[[-0.42794288]\n",
            " [-2.86298696]\n",
            " [-2.2029719 ]]\n"
          ]
        }
      ]
    },
    {
      "cell_type": "markdown",
      "source": [
        "## 3.10 Principal Component Regression (PCR)"
      ],
      "metadata": {
        "id": "Rh9LlNL-pbx3"
      }
    },
    {
      "cell_type": "code",
      "source": [
        "import numpy as np\n",
        "\n",
        "def pcr(X, y, R):\n",
        "  \"\"\"\n",
        "  Calculate regression coefficients using PCR\n",
        "\n",
        "  Parameters\n",
        "  ----------\n",
        "  X: Input Data\n",
        "  y: Output Data\n",
        "  R: Number of Principal Components\n",
        "\n",
        "  Return Values\n",
        "  ----------\n",
        "  beta: Regression Coefficient\n",
        "  \"\"\"\n",
        "\n",
        "  # Vectorize y\n",
        "  y = y.reshape(-1, 1)\n",
        "\n",
        "  # (Number of conditions before PCA)\n",
        "  print(f\"Number of conditions before PCA\", np.linalg.cond(X.T @ X))\n",
        "\n",
        "  # Principal Component Analysis\n",
        "  P, T = pca(X)\n",
        "\n",
        "  # Extract the principal component score matrices up to the Rth\n",
        "  T = T[:,:R]\n",
        "\n",
        "  # (Number of conditions after PCA)\n",
        "  print(f\"Number of conditions after PCA\", np.linalg.cond(T.T @ T))\n",
        "\n",
        "  # Find the regression coefficient by the least squares method\n",
        "  beta_R = least_squares(T, y)\n",
        "  beta = P[:,:R] @ beta_R\n",
        "  return beta"
      ],
      "metadata": {
        "id": "th0SeKhmAz0m"
      },
      "execution_count": 99,
      "outputs": []
    },
    {
      "cell_type": "markdown",
      "source": [
        "### If the number of principal components is 2"
      ],
      "metadata": {
        "id": "b_EvKMoKU1Ba"
      }
    },
    {
      "cell_type": "code",
      "source": [
        "import numpy as np\n",
        "\n",
        "# Define data (※ 0.25 * column1 - 0.8 * column2 = column3)\n",
        "X1 = np.array([[-1.12, -0.51, 0.69],\n",
        "               [-0.43, -1.12, 1.02],\n",
        "               [0.37, 1.10, -0.98],\n",
        "               [1.19, 0.53, -0.73]])\n",
        "\n",
        "X2 = np.array([[-1.12, -0.51, 0.70],\n",
        "               [-0.43, -1.12, 1.01],\n",
        "               [0.36, 1.10, -0.98],\n",
        "               [1.20, 0.53, -0.73]])"
      ],
      "metadata": {
        "id": "yTPgxFveV0-f"
      },
      "execution_count": 100,
      "outputs": []
    },
    {
      "cell_type": "code",
      "source": [
        "y = np.array([0.4, 1.17, -1.14, -0.42]) "
      ],
      "metadata": {
        "id": "Z_uFLCXtXRuk"
      },
      "execution_count": 101,
      "outputs": []
    },
    {
      "cell_type": "code",
      "source": [
        "# Set the number of principal components to 2\n",
        "R = 2\n",
        "\n",
        "beta1 = pcr(X1, y, R)"
      ],
      "metadata": {
        "colab": {
          "base_uri": "https://localhost:8080/"
        },
        "id": "uTd7X57aXcIG",
        "outputId": "5480b50a-07a7-4a5c-e132-2401c1b02ecb"
      },
      "execution_count": 102,
      "outputs": [
        {
          "output_type": "stream",
          "name": "stdout",
          "text": [
            "Number of conditions before PCA 235456.75658377822\n",
            "Number of conditions after PCA 8.080825169090927\n"
          ]
        }
      ]
    },
    {
      "cell_type": "code",
      "source": [
        "print(beta1)"
      ],
      "metadata": {
        "colab": {
          "base_uri": "https://localhost:8080/"
        },
        "id": "tJP0yaJGXoaZ",
        "outputId": "1b5d0da2-6be0-4db3-867c-6d1b294f8940"
      },
      "execution_count": 103,
      "outputs": [
        {
          "output_type": "stream",
          "name": "stdout",
          "text": [
            "[[ 0.25849154]\n",
            " [-0.68874152]\n",
            " [ 0.49387146]]\n"
          ]
        }
      ]
    },
    {
      "cell_type": "code",
      "source": [
        "beta2 = pcr(X2, y, R)"
      ],
      "metadata": {
        "colab": {
          "base_uri": "https://localhost:8080/"
        },
        "id": "Bm3XJqfeXtC1",
        "outputId": "9e6d9131-7541-4026-a456-1de743951ec7"
      },
      "execution_count": 104,
      "outputs": [
        {
          "output_type": "stream",
          "name": "stdout",
          "text": [
            "Number of conditions before PCA 470649.9730137264\n",
            "Number of conditions after PCA 7.975485263932513\n"
          ]
        }
      ]
    },
    {
      "cell_type": "code",
      "source": [
        "print(beta2)"
      ],
      "metadata": {
        "id": "SFlchwPTXy_r",
        "outputId": "71b9f17a-1bef-4d73-b0cf-39fc04a171ad",
        "colab": {
          "base_uri": "https://localhost:8080/"
        }
      },
      "execution_count": 105,
      "outputs": [
        {
          "output_type": "stream",
          "name": "stdout",
          "text": [
            "[[ 0.25929082]\n",
            " [-0.69212429]\n",
            " [ 0.49149105]]\n"
          ]
        }
      ]
    },
    {
      "cell_type": "markdown",
      "source": [
        "### If the number of principal components is 1"
      ],
      "metadata": {
        "id": "gy7zHd4YX1Bf"
      }
    },
    {
      "cell_type": "code",
      "source": [
        "# Set the number of principal components to 1\n",
        "R = 1\n",
        "\n",
        "beta1 = pcr(X1, y, R)"
      ],
      "metadata": {
        "colab": {
          "base_uri": "https://localhost:8080/"
        },
        "id": "sf6x87yUlAdq",
        "outputId": "1c802d5c-67de-4a21-ac21-cbb9da7d5a33"
      },
      "execution_count": 106,
      "outputs": [
        {
          "output_type": "stream",
          "name": "stdout",
          "text": [
            "Number of conditions before PCA 235456.75658377822\n",
            "Number of conditions after PCA 1.0\n"
          ]
        }
      ]
    },
    {
      "cell_type": "code",
      "source": [
        "print(beta1)"
      ],
      "metadata": {
        "colab": {
          "base_uri": "https://localhost:8080/"
        },
        "id": "LP_Cy0KblNFV",
        "outputId": "3d8ebc9b-1ec6-43ca-d9fe-eb5181c4816e"
      },
      "execution_count": 107,
      "outputs": [
        {
          "output_type": "stream",
          "name": "stdout",
          "text": [
            "[[-0.30313539]\n",
            " [-0.32858522]\n",
            " [ 0.34217102]]\n"
          ]
        }
      ]
    },
    {
      "cell_type": "code",
      "source": [
        "beta2 = pcr(X2, y, R)"
      ],
      "metadata": {
        "colab": {
          "base_uri": "https://localhost:8080/"
        },
        "id": "3wAdYBZFlPgm",
        "outputId": "1c10ced2-0d27-474c-c151-559ffc525c68"
      },
      "execution_count": 108,
      "outputs": [
        {
          "output_type": "stream",
          "name": "stdout",
          "text": [
            "Number of conditions before PCA 470649.9730137264\n",
            "Number of conditions after PCA 1.0\n"
          ]
        }
      ]
    },
    {
      "cell_type": "code",
      "source": [
        "print(beta2)"
      ],
      "metadata": {
        "colab": {
          "base_uri": "https://localhost:8080/"
        },
        "id": "cV2VYPdglTUU",
        "outputId": "ceb366f6-7c28-4439-dc08-c7e41b2ef1bc"
      },
      "execution_count": 109,
      "outputs": [
        {
          "output_type": "stream",
          "name": "stdout",
          "text": [
            "[[-0.30335458]\n",
            " [-0.32755389]\n",
            " [ 0.34127419]]\n"
          ]
        }
      ]
    },
    {
      "cell_type": "markdown",
      "source": [
        "## 3.11 Ridge regression"
      ],
      "metadata": {
        "id": "FB1K5zzOlVLq"
      }
    },
    {
      "cell_type": "code",
      "source": [
        "import numpy as np\n",
        "\n",
        "def ridge(X, y, mu=0.1):\n",
        "  \"\"\"\n",
        "  Calculate regression coefficients using ridge regression\n",
        "\n",
        "  Parameters\n",
        "  ----------\n",
        "  X: Input Data\n",
        "  y: Output Data\n",
        "  mu: Parameter (default: 0.1)\n",
        "\n",
        "  Return Values\n",
        "  ----------\n",
        "  beta_ridge: Regression Coefficient\n",
        "  \"\"\"\n",
        "  # Vectorize y\n",
        "  y = y.reshape(-1, 1)\n",
        "\n",
        "  # Find the regression coeeficients for the Ridge regression\n",
        "  I = np.eye(X.shape[1])\n",
        "  # (Number of conditions before Ridge)\n",
        "  print(f\"Number of conditions before Ridge\", np.linalg.cond(X.T @ X))\n",
        "  # (Number of conditions after Ridge)\n",
        "  print(f\"Number of conditions after Ridge\", np.linalg.cond(X.T @ X + mu * I))\n",
        "  beta_ridge = np.linalg.inv(X.T @ X + mu * I) @ X.T @ y\n",
        "  return beta_ridge"
      ],
      "metadata": {
        "id": "-T4xkdtglqMr"
      },
      "execution_count": 111,
      "outputs": []
    },
    {
      "cell_type": "markdown",
      "source": [
        "### Examples of Ridge regression"
      ],
      "metadata": {
        "id": "nNzOx_88okt7"
      }
    },
    {
      "cell_type": "code",
      "source": [
        "# Set the parameter to 0.1\n",
        "mu = 0.1\n",
        "beta1 = ridge(X1, y, mu)"
      ],
      "metadata": {
        "colab": {
          "base_uri": "https://localhost:8080/"
        },
        "id": "OIUiZVu-p_vc",
        "outputId": "08aa15c2-4273-4dcf-de9b-df44d9b0caa0"
      },
      "execution_count": 112,
      "outputs": [
        {
          "output_type": "stream",
          "name": "stdout",
          "text": [
            "Number of conditions before Ridge 235456.75658377822\n",
            "Number of conditions after Ridge 81.12782634914616\n"
          ]
        }
      ]
    },
    {
      "cell_type": "code",
      "source": [
        "print(beta1)"
      ],
      "metadata": {
        "colab": {
          "base_uri": "https://localhost:8080/"
        },
        "id": "ZURoMchBqMlq",
        "outputId": "c5d6b765-268f-4c69-beff-6a0c6c9d4f35"
      },
      "execution_count": 113,
      "outputs": [
        {
          "output_type": "stream",
          "name": "stdout",
          "text": [
            "[[ 0.21088992]\n",
            " [-0.65139114]\n",
            " [ 0.47615414]]\n"
          ]
        }
      ]
    },
    {
      "cell_type": "code",
      "source": [
        "beta2 = ridge(X2, y, mu)"
      ],
      "metadata": {
        "colab": {
          "base_uri": "https://localhost:8080/"
        },
        "id": "9AEPbE38qRqe",
        "outputId": "02a80ed3-c558-4e8f-d42f-1d6ca604e823"
      },
      "execution_count": 114,
      "outputs": [
        {
          "output_type": "stream",
          "name": "stdout",
          "text": [
            "Number of conditions before Ridge 470649.9730137264\n",
            "Number of conditions after Ridge 81.11600505494289\n"
          ]
        }
      ]
    },
    {
      "cell_type": "code",
      "source": [
        "print(beta2)"
      ],
      "metadata": {
        "colab": {
          "base_uri": "https://localhost:8080/"
        },
        "id": "_ZkYCgLKqWqa",
        "outputId": "c57d6c41-ab2f-4007-8136-db95c2e29b92"
      },
      "execution_count": 115,
      "outputs": [
        {
          "output_type": "stream",
          "name": "stdout",
          "text": [
            "[[ 0.21198147]\n",
            " [-0.65545325]\n",
            " [ 0.47322964]]\n"
          ]
        }
      ]
    },
    {
      "cell_type": "code",
      "source": [
        "# Set the parameter to 1\n",
        "mu = 1\n",
        "beta1 = ridge(X1, y, mu)"
      ],
      "metadata": {
        "colab": {
          "base_uri": "https://localhost:8080/"
        },
        "id": "vCxyVuW6ql-D",
        "outputId": "d7413068-d445-426f-d2ce-d013b97c95c6"
      },
      "execution_count": 116,
      "outputs": [
        {
          "output_type": "stream",
          "name": "stdout",
          "text": [
            "Number of conditions before Ridge 235456.75658377822\n",
            "Number of conditions after Ridge 9.015237530107033\n"
          ]
        }
      ]
    },
    {
      "cell_type": "code",
      "source": [
        "print(beta1)"
      ],
      "metadata": {
        "colab": {
          "base_uri": "https://localhost:8080/"
        },
        "id": "QaHnOjBAqsnf",
        "outputId": "479712bd-d0ea-4b04-8d9d-40620ed0fbd1"
      },
      "execution_count": 117,
      "outputs": [
        {
          "output_type": "stream",
          "name": "stdout",
          "text": [
            "[[ 0.01017256]\n",
            " [-0.47145393]\n",
            " [ 0.3798    ]]\n"
          ]
        }
      ]
    },
    {
      "cell_type": "code",
      "source": [
        "beta2 = ridge(X2, y, mu)"
      ],
      "metadata": {
        "colab": {
          "base_uri": "https://localhost:8080/"
        },
        "id": "-BCHEXSiqvO9",
        "outputId": "9dba2e83-a48e-4c0e-90a5-5a06b1e491c7"
      },
      "execution_count": 118,
      "outputs": [
        {
          "output_type": "stream",
          "name": "stdout",
          "text": [
            "Number of conditions before Ridge 470649.9730137264\n",
            "Number of conditions after Ridge 9.012828087473903\n"
          ]
        }
      ]
    },
    {
      "cell_type": "code",
      "source": [
        "print(beta2)"
      ],
      "metadata": {
        "colab": {
          "base_uri": "https://localhost:8080/"
        },
        "id": "VAxl4FK0qx9-",
        "outputId": "3782f557-fd85-40dd-f038-94fd7488b16c"
      },
      "execution_count": 119,
      "outputs": [
        {
          "output_type": "stream",
          "name": "stdout",
          "text": [
            "[[ 0.01227368]\n",
            " [-0.47396013]\n",
            " [ 0.37864896]]\n"
          ]
        }
      ]
    },
    {
      "cell_type": "code",
      "source": [
        ""
      ],
      "metadata": {
        "id": "5uhYKu3qqz7I"
      },
      "execution_count": null,
      "outputs": []
    }
  ]
}