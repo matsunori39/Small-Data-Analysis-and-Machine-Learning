{
  "nbformat": 4,
  "nbformat_minor": 0,
  "metadata": {
    "colab": {
      "name": "Small Data Analysis and Machine Learning.ipynb",
      "provenance": [],
      "authorship_tag": "ABX9TyPICWEFNsQydJORvLcacznc",
      "include_colab_link": true
    },
    "kernelspec": {
      "name": "python3",
      "display_name": "Python 3"
    },
    "language_info": {
      "name": "python"
    }
  },
  "cells": [
    {
      "cell_type": "markdown",
      "metadata": {
        "id": "view-in-github",
        "colab_type": "text"
      },
      "source": [
        "<a href=\"https://colab.research.google.com/github/matsunori39/Small-Data-Analysis-and-Machine-Learning/blob/main/Small_Data_Analysis_and_Machine_Learning.ipynb\" target=\"_parent\"><img src=\"https://colab.research.google.com/assets/colab-badge.svg\" alt=\"Open In Colab\"/></a>"
      ]
    },
    {
      "cell_type": "markdown",
      "source": [
        "https://www.ohmsha.co.jp/book/9784274227783/"
      ],
      "metadata": {
        "id": "tDmqFg3N7fh0"
      }
    },
    {
      "cell_type": "markdown",
      "source": [
        "# Chapter 2 Correlation and Principal Component Analysis"
      ],
      "metadata": {
        "id": "8CQtbjGG7oXI"
      }
    },
    {
      "cell_type": "markdown",
      "source": [
        "## 2.1 Data Preprocessing"
      ],
      "metadata": {
        "id": "Q75zoekG75_A"
      }
    },
    {
      "cell_type": "markdown",
      "source": [
        "### Data Standardization"
      ],
      "metadata": {
        "id": "9AVAOBgkle4s"
      }
    },
    {
      "cell_type": "code",
      "source": [
        "import numpy as np\n",
        "\n",
        "def autoscale(X):\n",
        "  \"\"\"\n",
        "  Standardize data matrix\n",
        "\n",
        "  Parameters\n",
        "  ------------\n",
        "  X: Data Matrix\n",
        "\n",
        "  Return Value\n",
        "  ------------\n",
        "  Xscale: Data matrix after standardization\n",
        "  meanX: mean vector\n",
        "  stdX: standard deviation vector\n",
        "  \"\"\"\n",
        "\n",
        "  meanX = np.mean(X, axis = 0)\n",
        "  stdX = np.std(X, axis = 0, ddof = 1)\n",
        "  Xscale = (X - meanX) / stdX\n",
        "  return Xscale, meanX, stdX\n",
        "\n",
        "def scaling(x, meanX, stdX):\n",
        "  \"\"\"\n",
        "  Standardizes the sample from mean and standard deviation of the data matrix\n",
        "\n",
        "  Parameters\n",
        "  ------------\n",
        "  x: Samples to be standardized\n",
        "  meanX: mean vector\n",
        "  stdX: standard deviation vector\n",
        "\n",
        "  Return Value\n",
        "  ------------\n",
        "  xscale: Sample after standardization\n",
        "  \"\"\"\n",
        "\n",
        "  xscale = (x - meanX) / stdX\n",
        "  return xscale\n",
        "\n",
        "def rescaling(xscale, meanX, stdX):\n",
        "  \"\"\"\n",
        "  Restore standardized samples to original scale\n",
        "\n",
        "  Parameters\n",
        "  ------------\n",
        "  xscale: Sample after standardization\n",
        "  meanX: mean vector\n",
        "  stdX: standard deviation vector\n",
        "\n",
        "  Return Value\n",
        "  ------------\n",
        "  xscale: Sample of original scale\n",
        "  \"\"\"\n",
        "\n",
        "  x = np.multiply(stdX, xscale) + meanX\n",
        "  return x"
      ],
      "metadata": {
        "id": "BTitvuT2lzDZ"
      },
      "execution_count": 1,
      "outputs": []
    },
    {
      "cell_type": "markdown",
      "source": [
        "### Standardize data"
      ],
      "metadata": {
        "id": "IGFq0uQWBylX"
      }
    },
    {
      "cell_type": "code",
      "source": [
        "import numpy as np\n",
        "\n",
        "# Define existing data and unknown samples with ndarray type\n",
        "X = np.array([[1, 2, 3],\n",
        "              [4, 5, 6],\n",
        "              [7, 8, 9]])\n",
        "\n",
        "x = np.array([[10, 11, 12]])\n",
        "\n",
        "# Standardize X\n",
        "Xscale, meanX, stdX = autoscale(X)\n",
        "print(Xscale)"
      ],
      "metadata": {
        "id": "uv9kyKCtCJss",
        "colab": {
          "base_uri": "https://localhost:8080/"
        },
        "outputId": "27711688-21ea-4af1-9f30-0883108212df"
      },
      "execution_count": 2,
      "outputs": [
        {
          "output_type": "stream",
          "name": "stdout",
          "text": [
            "[[-1. -1. -1.]\n",
            " [ 0.  0.  0.]\n",
            " [ 1.  1.  1.]]\n"
          ]
        }
      ]
    },
    {
      "cell_type": "code",
      "source": [
        "print(meanX)"
      ],
      "metadata": {
        "colab": {
          "base_uri": "https://localhost:8080/"
        },
        "id": "XomVS_A3Mn67",
        "outputId": "7652d004-93b9-4f08-a956-d6d09d073b4b"
      },
      "execution_count": 3,
      "outputs": [
        {
          "output_type": "stream",
          "name": "stdout",
          "text": [
            "[4. 5. 6.]\n"
          ]
        }
      ]
    },
    {
      "cell_type": "code",
      "source": [
        "print(stdX)"
      ],
      "metadata": {
        "colab": {
          "base_uri": "https://localhost:8080/"
        },
        "id": "PeG9zu5CMp8J",
        "outputId": "599979ae-b126-4cae-bb60-9c85d777cc2e"
      },
      "execution_count": 4,
      "outputs": [
        {
          "output_type": "stream",
          "name": "stdout",
          "text": [
            "[3. 3. 3.]\n"
          ]
        }
      ]
    },
    {
      "cell_type": "code",
      "source": [
        "# Stdndardize unknown samples\n",
        "xscale = scaling(x, meanX, stdX)\n",
        "print(xscale)"
      ],
      "metadata": {
        "colab": {
          "base_uri": "https://localhost:8080/"
        },
        "id": "iFuCGEemMrp2",
        "outputId": "433cdc0e-5fde-4487-adb5-28501d4639bd"
      },
      "execution_count": 5,
      "outputs": [
        {
          "output_type": "stream",
          "name": "stdout",
          "text": [
            "[[2. 2. 2.]]\n"
          ]
        }
      ]
    },
    {
      "cell_type": "code",
      "source": [
        "# Restore the standardized sample to its original scale\n",
        "xrescale = rescaling(xscale, meanX, stdX)\n",
        "print(xrescale)"
      ],
      "metadata": {
        "colab": {
          "base_uri": "https://localhost:8080/"
        },
        "id": "TUG7vF81M6HJ",
        "outputId": "774bfded-dfc7-44c4-bd1c-959a0856f934"
      },
      "execution_count": 6,
      "outputs": [
        {
          "output_type": "stream",
          "name": "stdout",
          "text": [
            "[[10. 11. 12.]]\n"
          ]
        }
      ]
    },
    {
      "cell_type": "markdown",
      "source": [
        "## 2.8 Derivation of the rth principal component"
      ],
      "metadata": {
        "id": "SWLkaHyTNLMB"
      }
    },
    {
      "cell_type": "markdown",
      "source": [
        "### PCA program with eigenvalue problem"
      ],
      "metadata": {
        "id": "ur58q7TNQiLY"
      }
    },
    {
      "cell_type": "code",
      "source": [
        "import numpy as np\n",
        "\n",
        "def pca(X):\n",
        "  \"\"\"\n",
        "  Performs principal component analysis with eigenvalues\n",
        "\n",
        "  Parameter\n",
        "  ------------\n",
        "  X: Data Matrix\n",
        "\n",
        "  Return Values\n",
        "  ------------\n",
        "  P: Loading Matrix\n",
        "  t: Principal Component Score Matrix  \n",
        "  \"\"\"\n",
        "\n",
        "  # Computes the covariance matrix\n",
        "  V = np.cov(X.T)\n",
        "  # Solve the eigenvalue problem for the covariance matrix\n",
        "  _, P = np.linalg.eig(V)\n",
        "\n",
        "  # Calculate principal component scores\n",
        "  t = X @ P\n",
        "  return P, t"
      ],
      "metadata": {
        "id": "Ys4mB8TKQ9K_"
      },
      "execution_count": 7,
      "outputs": []
    },
    {
      "cell_type": "markdown",
      "source": [
        "## 2.9 Examples of PCA values"
      ],
      "metadata": {
        "id": "3PnIIOBL4znV"
      }
    },
    {
      "cell_type": "code",
      "source": [
        "import numpy as np\n",
        "\n",
        "data = [[2, 2], [1, -1], [-1, 1], [-2, -2]]\n",
        "x = np.array(data)\n",
        "P, T = pca(x)\n",
        "\n",
        "print(P)"
      ],
      "metadata": {
        "colab": {
          "base_uri": "https://localhost:8080/"
        },
        "id": "RIfjDvM966K4",
        "outputId": "691108e1-8070-469f-9931-62d1c58d33b8"
      },
      "execution_count": 8,
      "outputs": [
        {
          "output_type": "stream",
          "name": "stdout",
          "text": [
            "[[ 0.70710678 -0.70710678]\n",
            " [ 0.70710678  0.70710678]]\n"
          ]
        }
      ]
    },
    {
      "cell_type": "markdown",
      "source": [
        "## 2.12 PCA and Singular Value Decomposition"
      ],
      "metadata": {
        "id": "UTMgvRsck_9_"
      }
    },
    {
      "cell_type": "markdown",
      "source": [
        "### PCA using SVD"
      ],
      "metadata": {
        "id": "ZpB0ao0gXqAV"
      }
    },
    {
      "cell_type": "code",
      "source": [
        "import numpy as np\n",
        "\n",
        "def pca_svd(X):\n",
        "  \"\"\"\n",
        "  Perform principal component analysis using SVD\n",
        "\n",
        "  Parameter\n",
        "  ---------\n",
        "  X: Data Matrix\n",
        "\n",
        "  Return Values\n",
        "  ---------\n",
        "  P: Loading Matrix\n",
        "  t: Principal Component Score Matrix\n",
        "  \"\"\"\n",
        "\n",
        "  # Decompose a matrix into singular values\n",
        "  _, _, P = np.linalg.svd(X)\n",
        "\n",
        "  # Calculate principal component scores\n",
        "  t = X @ P.T\n",
        "  return P, t"
      ],
      "metadata": {
        "id": "SpI1fvH0X0DW"
      },
      "execution_count": 9,
      "outputs": []
    },
    {
      "cell_type": "code",
      "source": [
        "P, t = pca_svd(np.array(data))\n",
        "print(P)"
      ],
      "metadata": {
        "colab": {
          "base_uri": "https://localhost:8080/"
        },
        "id": "688dSUorZFqB",
        "outputId": "82802320-97a7-4145-e876-5aaffc477e2b"
      },
      "execution_count": 10,
      "outputs": [
        {
          "output_type": "stream",
          "name": "stdout",
          "text": [
            "[[-0.70710678 -0.70710678]\n",
            " [-0.70710678  0.70710678]]\n"
          ]
        }
      ]
    },
    {
      "cell_type": "markdown",
      "source": [
        "# Chapter 3 Regression Analysis and Least Squares Method"
      ],
      "metadata": {
        "id": "9Tp5DFtvZWGn"
      }
    },
    {
      "cell_type": "markdown",
      "source": [
        "## 3.2 Least Squares Method"
      ],
      "metadata": {
        "id": "7up3N6UUdpcw"
      }
    },
    {
      "cell_type": "code",
      "source": [
        "import numpy as np\n",
        "\n",
        "def least_squares(X, y):\n",
        "  \"\"\"\n",
        "  Calculate regression coefficients using the least squares method\n",
        "\n",
        "  Parameters\n",
        "  ----------\n",
        "  X: input data\n",
        "  y: output data\n",
        "\n",
        "  Return Value\n",
        "  ----------\n",
        "  beta: regression coefficient\n",
        "  \"\"\"\n",
        "\n",
        "  # Vectorize y\n",
        "  y = y.reshape(-1, 1)\n",
        "\n",
        "  # normal equation\n",
        "  beta = np.linalg.inv(X.T @ X) @ X.T @ y\n",
        "  return beta\n",
        "\n",
        "def ls_est(x, beta):\n",
        "  \"\"\"\n",
        "  Predicts output using a linear regression model\n",
        "\n",
        "  Parameters\n",
        "  ----------\n",
        "  x: unknown sample\n",
        "  beta: regression coefficient\n",
        "\n",
        "  Return Value\n",
        "  ----------\n",
        "  y_hat: Predicted value\n",
        "  \"\"\"\n",
        "\n",
        "  y_hat = beta.T @ x\n",
        "  return y_hat"
      ],
      "metadata": {
        "id": "Vl-L-8Nwdy5c"
      },
      "execution_count": 11,
      "outputs": []
    },
    {
      "cell_type": "markdown",
      "source": [
        "### Numerical example of the least-squares method"
      ],
      "metadata": {
        "id": "33XJP5_-fmOs"
      }
    },
    {
      "cell_type": "code",
      "source": [
        "import numpy as np\n",
        "\n",
        "# Define data\n",
        "X = np.array([[0.01, 0.50, -0.12],\n",
        "              [0.97, -0.63, 0.02],\n",
        "              [0.41, 1.15, -1.17],\n",
        "              [-1.38, -1.02, 1.27]])\n",
        "\n",
        "y = np.array([[0.25], [0.08], [1.03], [-1.37]])\n",
        "x = np.array([1, 0.7, -0.2])\n",
        "\n",
        "# Find the regression coefficient\n",
        "beta = least_squares(X, y)\n",
        "print(beta)"
      ],
      "metadata": {
        "colab": {
          "base_uri": "https://localhost:8080/"
        },
        "id": "N50PKofJf1t0",
        "outputId": "d6a58eb0-95bf-4851-ec0c-7381ea10b8aa"
      },
      "execution_count": 12,
      "outputs": [
        {
          "output_type": "stream",
          "name": "stdout",
          "text": [
            "[[ 0.36347065]\n",
            " [ 0.41624871]\n",
            " [-0.34677593]]\n"
          ]
        }
      ]
    },
    {
      "cell_type": "code",
      "source": [
        "# Predicts output from unknown samples\n",
        "y_hat = ls_est(x, beta)\n",
        "print(y_hat)"
      ],
      "metadata": {
        "id": "tsmiuej4gZOK",
        "colab": {
          "base_uri": "https://localhost:8080/"
        },
        "outputId": "47f87420-b5d8-482c-d0cf-401d322b67f5"
      },
      "execution_count": 13,
      "outputs": [
        {
          "output_type": "stream",
          "name": "stdout",
          "text": [
            "[0.72419993]\n"
          ]
        }
      ]
    },
    {
      "cell_type": "markdown",
      "source": [
        "## 3.7 Multicollinearity issues"
      ],
      "metadata": {
        "id": "cHS-9mp9JR15"
      }
    },
    {
      "cell_type": "code",
      "source": [
        "A = np.array([[2.01,   1 ],\n",
        "              [  4 , 2.01]])\n",
        "B = np.array([[1.99,   1 ],\n",
        "              [  4 , 2.02]])"
      ],
      "metadata": {
        "id": "m3c8RKj5LTA1"
      },
      "execution_count": 14,
      "outputs": []
    },
    {
      "cell_type": "code",
      "source": [
        "np.linalg.inv(A)"
      ],
      "metadata": {
        "colab": {
          "base_uri": "https://localhost:8080/"
        },
        "id": "yQZ0ZDh0NR0g",
        "outputId": "26b44cc8-a5dd-45ff-8521-a31c37b64601"
      },
      "execution_count": 15,
      "outputs": [
        {
          "output_type": "execute_result",
          "data": {
            "text/plain": [
              "array([[ 50.12468828, -24.93765586],\n",
              "       [-99.75062344,  50.12468828]])"
            ]
          },
          "metadata": {},
          "execution_count": 15
        }
      ]
    },
    {
      "cell_type": "code",
      "source": [
        "np.linalg.inv(B)"
      ],
      "metadata": {
        "colab": {
          "base_uri": "https://localhost:8080/"
        },
        "id": "GzxO6juMNX7x",
        "outputId": "8668fcef-3788-4314-a226-d8e55ac20d3d"
      },
      "execution_count": 16,
      "outputs": [
        {
          "output_type": "execute_result",
          "data": {
            "text/plain": [
              "array([[ 102.02020202,  -50.50505051],\n",
              "       [-202.02020202,  100.50505051]])"
            ]
          },
          "metadata": {},
          "execution_count": 16
        }
      ]
    },
    {
      "cell_type": "code",
      "source": [
        "C = np.array([[ 2 , 1 ],\n",
        "              [ 4 , 2 ]])"
      ],
      "metadata": {
        "id": "KG2k3mBTNaiq"
      },
      "execution_count": 17,
      "outputs": []
    },
    {
      "cell_type": "code",
      "source": [
        "np.linalg.cond(A)"
      ],
      "metadata": {
        "colab": {
          "base_uri": "https://localhost:8080/"
        },
        "id": "wYgKJIDhNqPt",
        "outputId": "047b29d6-0f11-44fb-b8d6-6c6eb2b89783"
      },
      "execution_count": 18,
      "outputs": [
        {
          "output_type": "execute_result",
          "data": {
            "text/plain": [
              "625.4397976337879"
            ]
          },
          "metadata": {},
          "execution_count": 18
        }
      ]
    },
    {
      "cell_type": "code",
      "source": [
        "np.linalg.cond(B)"
      ],
      "metadata": {
        "colab": {
          "base_uri": "https://localhost:8080/"
        },
        "id": "MdmnM3oYNuif",
        "outputId": "d2c969b5-1baf-4000-e3fa-cc9d39a95696"
      },
      "execution_count": 19,
      "outputs": [
        {
          "output_type": "execute_result",
          "data": {
            "text/plain": [
              "1264.670926452252"
            ]
          },
          "metadata": {},
          "execution_count": 19
        }
      ]
    },
    {
      "cell_type": "code",
      "source": [
        "np.linalg.cond(C)"
      ],
      "metadata": {
        "colab": {
          "base_uri": "https://localhost:8080/"
        },
        "id": "fF3hyiTtNzaK",
        "outputId": "82429e0d-55f7-4a95-8e96-c01085772ea5"
      },
      "execution_count": 20,
      "outputs": [
        {
          "output_type": "execute_result",
          "data": {
            "text/plain": [
              "2.517588727560788e+16"
            ]
          },
          "metadata": {},
          "execution_count": 20
        }
      ]
    },
    {
      "cell_type": "markdown",
      "source": [
        "### For data without multicolinearity"
      ],
      "metadata": {
        "id": "Xn_9xMSzN0PV"
      }
    },
    {
      "cell_type": "code",
      "source": [
        "import numpy as np\n",
        "\n",
        "# Define data\n",
        "X1 = np.array([[0.01, 0.50, -0.12],\n",
        "               [0.97, -0.63, 0.02],\n",
        "               [0.41, 1.15, -1.17],\n",
        "               [-1.38, -1.02, 1.27]])\n",
        "\n",
        "X2 = np.array([[-0.01, 0.52, -0.12],\n",
        "               [0.96, -0.64, 0.03],\n",
        "               [0.43, 1.14, -1.17],\n",
        "               [-1.38, -1.01, 1.27]])"
      ],
      "metadata": {
        "id": "5QGhJm_POJMF"
      },
      "execution_count": 21,
      "outputs": []
    },
    {
      "cell_type": "code",
      "source": [
        "np.linalg.cond(X1.T @ X1)"
      ],
      "metadata": {
        "colab": {
          "base_uri": "https://localhost:8080/"
        },
        "id": "i3nYr70Dm73K",
        "outputId": "3b41e6cc-a6ca-4370-e3ce-dfed630dc3bf"
      },
      "execution_count": 22,
      "outputs": [
        {
          "output_type": "execute_result",
          "data": {
            "text/plain": [
              "135.7529385871794"
            ]
          },
          "metadata": {},
          "execution_count": 22
        }
      ]
    },
    {
      "cell_type": "code",
      "source": [
        "np.linalg.cond(X2.T @ X2)"
      ],
      "metadata": {
        "colab": {
          "base_uri": "https://localhost:8080/"
        },
        "id": "I_LbTNMInGeF",
        "outputId": "4050e9bf-4f8f-40d7-901c-d4c78e92f05a"
      },
      "execution_count": 23,
      "outputs": [
        {
          "output_type": "execute_result",
          "data": {
            "text/plain": [
              "133.3934657598505"
            ]
          },
          "metadata": {},
          "execution_count": 23
        }
      ]
    },
    {
      "cell_type": "code",
      "source": [
        "y = np.array([[0.25], [0.08], [1.03], [-1.37]])\n",
        "\n",
        "# Calculate the regression coefficients for each of X1 and X2\n",
        "beta1 = least_squares(X1, y)\n",
        "print(beta1)"
      ],
      "metadata": {
        "colab": {
          "base_uri": "https://localhost:8080/"
        },
        "id": "b4BtnGCem5U5",
        "outputId": "3ac6688d-8b7a-4b01-ac2f-81d6fd4f83cb"
      },
      "execution_count": 24,
      "outputs": [
        {
          "output_type": "stream",
          "name": "stdout",
          "text": [
            "[[ 0.36347065]\n",
            " [ 0.41624871]\n",
            " [-0.34677593]]\n"
          ]
        }
      ]
    },
    {
      "cell_type": "code",
      "source": [
        "beta2 = least_squares(X2, y)\n",
        "print(beta2)"
      ],
      "metadata": {
        "colab": {
          "base_uri": "https://localhost:8080/"
        },
        "id": "6u3sc_S_l1uG",
        "outputId": "e9b95dd2-a053-43d8-c75f-e71b2c1ee267"
      },
      "execution_count": 25,
      "outputs": [
        {
          "output_type": "stream",
          "name": "stdout",
          "text": [
            "[[ 0.37270979]\n",
            " [ 0.41379869]\n",
            " [-0.34252764]]\n"
          ]
        }
      ]
    },
    {
      "cell_type": "markdown",
      "source": [
        "### For multicolinear data"
      ],
      "metadata": {
        "id": "xW-O4J2_l7kB"
      }
    },
    {
      "cell_type": "code",
      "source": [
        "import numpy as np\n",
        "\n",
        "# Define data (※ 0.25 * column1 - 0.8 * column2 = column3)\n",
        "X1 = np.array([[-1.12, -0.51, 0.69],\n",
        "               [-0.43, -1.12, 1.02],\n",
        "               [0.37, 1.10, -0.98],\n",
        "               [1.19, 0.53, -0.73]])\n",
        "\n",
        "X2 = np.array([[-1.12, -0.51, 0.70],\n",
        "               [-0.43, -1.12, 1.01],\n",
        "               [0.36, 1.10, -0.98],\n",
        "               [1.20, 0.53, -0.73]])"
      ],
      "metadata": {
        "id": "NQR7GWSZnjrP"
      },
      "execution_count": 26,
      "outputs": []
    },
    {
      "cell_type": "code",
      "source": [
        "np.linalg.cond(X1.T @ X1)"
      ],
      "metadata": {
        "colab": {
          "base_uri": "https://localhost:8080/"
        },
        "id": "qxhG_c2wo9NI",
        "outputId": "751d3824-f63c-4b14-9753-801942922e77"
      },
      "execution_count": 27,
      "outputs": [
        {
          "output_type": "execute_result",
          "data": {
            "text/plain": [
              "235456.75658377822"
            ]
          },
          "metadata": {},
          "execution_count": 27
        }
      ]
    },
    {
      "cell_type": "code",
      "source": [
        "np.linalg.cond(X2.T @ X2)"
      ],
      "metadata": {
        "colab": {
          "base_uri": "https://localhost:8080/"
        },
        "id": "v7zyEYJCo_8X",
        "outputId": "825843ed-a143-4dcf-f695-70792d37d33d"
      },
      "execution_count": 28,
      "outputs": [
        {
          "output_type": "execute_result",
          "data": {
            "text/plain": [
              "470649.9730137264"
            ]
          },
          "metadata": {},
          "execution_count": 28
        }
      ]
    },
    {
      "cell_type": "code",
      "source": [
        "y = np.array([0.4, 1.17, -1.14, -0.42])\n",
        "\n",
        "# Calculate the regression coefficients for each of X1 and X2\n",
        "beta1 = least_squares(X1, y)\n",
        "print(beta1)"
      ],
      "metadata": {
        "colab": {
          "base_uri": "https://localhost:8080/"
        },
        "id": "M2fKWED1pCl-",
        "outputId": "f703bc4a-8d2b-44f6-c942-c355bdb659e6"
      },
      "execution_count": 29,
      "outputs": [
        {
          "output_type": "stream",
          "name": "stdout",
          "text": [
            "[[0.54496962]\n",
            " [0.24094799]\n",
            " [1.64044474]]\n"
          ]
        }
      ]
    },
    {
      "cell_type": "code",
      "source": [
        "beta2 = least_squares(X2, y)\n",
        "print(beta2)"
      ],
      "metadata": {
        "colab": {
          "base_uri": "https://localhost:8080/"
        },
        "id": "qig6qz2gpYh_",
        "outputId": "4e4e7228-31b3-410e-d182-a164dde73638"
      },
      "execution_count": 30,
      "outputs": [
        {
          "output_type": "stream",
          "name": "stdout",
          "text": [
            "[[-0.42794288]\n",
            " [-2.86298696]\n",
            " [-2.2029719 ]]\n"
          ]
        }
      ]
    },
    {
      "cell_type": "markdown",
      "source": [
        "## 3.10 Principal Component Regression (PCR)"
      ],
      "metadata": {
        "id": "Rh9LlNL-pbx3"
      }
    },
    {
      "cell_type": "code",
      "source": [
        "import numpy as np\n",
        "\n",
        "def pcr(X, y, R):\n",
        "  \"\"\"\n",
        "  Calculate regression coefficients using PCR\n",
        "\n",
        "  Parameters\n",
        "  ----------\n",
        "  X: Input Data\n",
        "  y: Output Data\n",
        "  R: Number of Principal Components\n",
        "\n",
        "  Return Values\n",
        "  ----------\n",
        "  beta: Regression Coefficient\n",
        "  \"\"\"\n",
        "\n",
        "  # Vectorize y\n",
        "  y = y.reshape(-1, 1)\n",
        "\n",
        "  # (Number of conditions before PCA)\n",
        "  print(f\"Number of conditions before PCA\", np.linalg.cond(X.T @ X))\n",
        "\n",
        "  # Principal Component Analysis\n",
        "  P, T = pca(X)\n",
        "\n",
        "  # Extract the principal component score matrices up to the Rth\n",
        "  T = T[:,:R]\n",
        "\n",
        "  # (Number of conditions after PCA)\n",
        "  print(f\"Number of conditions after PCA\", np.linalg.cond(T.T @ T))\n",
        "\n",
        "  # Find the regression coefficient by the least squares method\n",
        "  beta_R = least_squares(T, y)\n",
        "  beta = P[:,:R] @ beta_R\n",
        "  return beta"
      ],
      "metadata": {
        "id": "th0SeKhmAz0m"
      },
      "execution_count": 31,
      "outputs": []
    },
    {
      "cell_type": "markdown",
      "source": [
        "### If the number of principal components is 2"
      ],
      "metadata": {
        "id": "b_EvKMoKU1Ba"
      }
    },
    {
      "cell_type": "code",
      "source": [
        "import numpy as np\n",
        "\n",
        "# Define data (※ 0.25 * column1 - 0.8 * column2 = column3)\n",
        "X1 = np.array([[-1.12, -0.51, 0.69],\n",
        "               [-0.43, -1.12, 1.02],\n",
        "               [0.37, 1.10, -0.98],\n",
        "               [1.19, 0.53, -0.73]])\n",
        "\n",
        "X2 = np.array([[-1.12, -0.51, 0.70],\n",
        "               [-0.43, -1.12, 1.01],\n",
        "               [0.36, 1.10, -0.98],\n",
        "               [1.20, 0.53, -0.73]])"
      ],
      "metadata": {
        "id": "yTPgxFveV0-f"
      },
      "execution_count": 32,
      "outputs": []
    },
    {
      "cell_type": "code",
      "source": [
        "y = np.array([0.4, 1.17, -1.14, -0.42]) "
      ],
      "metadata": {
        "id": "Z_uFLCXtXRuk"
      },
      "execution_count": 33,
      "outputs": []
    },
    {
      "cell_type": "code",
      "source": [
        "# Set the number of principal components to 2\n",
        "R = 2\n",
        "\n",
        "beta1 = pcr(X1, y, R)"
      ],
      "metadata": {
        "colab": {
          "base_uri": "https://localhost:8080/"
        },
        "id": "uTd7X57aXcIG",
        "outputId": "a053146b-1f9e-43bb-e719-db2f9f242960"
      },
      "execution_count": 34,
      "outputs": [
        {
          "output_type": "stream",
          "name": "stdout",
          "text": [
            "Number of conditions before PCA 235456.75658377822\n",
            "Number of conditions after PCA 8.080825169090927\n"
          ]
        }
      ]
    },
    {
      "cell_type": "code",
      "source": [
        "print(beta1)"
      ],
      "metadata": {
        "colab": {
          "base_uri": "https://localhost:8080/"
        },
        "id": "tJP0yaJGXoaZ",
        "outputId": "ca30e2ee-8017-4ce1-bf32-258fae6d748b"
      },
      "execution_count": 35,
      "outputs": [
        {
          "output_type": "stream",
          "name": "stdout",
          "text": [
            "[[ 0.25849154]\n",
            " [-0.68874152]\n",
            " [ 0.49387146]]\n"
          ]
        }
      ]
    },
    {
      "cell_type": "code",
      "source": [
        "beta2 = pcr(X2, y, R)"
      ],
      "metadata": {
        "colab": {
          "base_uri": "https://localhost:8080/"
        },
        "id": "Bm3XJqfeXtC1",
        "outputId": "53a3402a-795f-467c-c6f3-edd8884283fa"
      },
      "execution_count": 36,
      "outputs": [
        {
          "output_type": "stream",
          "name": "stdout",
          "text": [
            "Number of conditions before PCA 470649.9730137264\n",
            "Number of conditions after PCA 7.975485263932513\n"
          ]
        }
      ]
    },
    {
      "cell_type": "code",
      "source": [
        "print(beta2)"
      ],
      "metadata": {
        "id": "SFlchwPTXy_r",
        "outputId": "22a5db26-2911-4e3b-8bb0-4af6bc74c460",
        "colab": {
          "base_uri": "https://localhost:8080/"
        }
      },
      "execution_count": 37,
      "outputs": [
        {
          "output_type": "stream",
          "name": "stdout",
          "text": [
            "[[ 0.25929082]\n",
            " [-0.69212429]\n",
            " [ 0.49149105]]\n"
          ]
        }
      ]
    },
    {
      "cell_type": "markdown",
      "source": [
        "### If the number of principal components is 1"
      ],
      "metadata": {
        "id": "gy7zHd4YX1Bf"
      }
    },
    {
      "cell_type": "code",
      "source": [
        "# Set the number of principal components to 1\n",
        "R = 1\n",
        "\n",
        "beta1 = pcr(X1, y, R)"
      ],
      "metadata": {
        "colab": {
          "base_uri": "https://localhost:8080/"
        },
        "id": "sf6x87yUlAdq",
        "outputId": "9b338629-08ca-43fb-fd66-cd5607a7c3bb"
      },
      "execution_count": 38,
      "outputs": [
        {
          "output_type": "stream",
          "name": "stdout",
          "text": [
            "Number of conditions before PCA 235456.75658377822\n",
            "Number of conditions after PCA 1.0\n"
          ]
        }
      ]
    },
    {
      "cell_type": "code",
      "source": [
        "print(beta1)"
      ],
      "metadata": {
        "colab": {
          "base_uri": "https://localhost:8080/"
        },
        "id": "LP_Cy0KblNFV",
        "outputId": "0ea7ceef-3e11-4416-c523-0fe9a2f99afa"
      },
      "execution_count": 39,
      "outputs": [
        {
          "output_type": "stream",
          "name": "stdout",
          "text": [
            "[[-0.30313539]\n",
            " [-0.32858522]\n",
            " [ 0.34217102]]\n"
          ]
        }
      ]
    },
    {
      "cell_type": "code",
      "source": [
        "beta2 = pcr(X2, y, R)"
      ],
      "metadata": {
        "colab": {
          "base_uri": "https://localhost:8080/"
        },
        "id": "3wAdYBZFlPgm",
        "outputId": "66cc0232-0ba7-4faa-a11f-5552d4fd965d"
      },
      "execution_count": 40,
      "outputs": [
        {
          "output_type": "stream",
          "name": "stdout",
          "text": [
            "Number of conditions before PCA 470649.9730137264\n",
            "Number of conditions after PCA 1.0\n"
          ]
        }
      ]
    },
    {
      "cell_type": "code",
      "source": [
        "print(beta2)"
      ],
      "metadata": {
        "colab": {
          "base_uri": "https://localhost:8080/"
        },
        "id": "cV2VYPdglTUU",
        "outputId": "0a7e4f48-c051-45e6-bbf9-8b992ac0f857"
      },
      "execution_count": 41,
      "outputs": [
        {
          "output_type": "stream",
          "name": "stdout",
          "text": [
            "[[-0.30335458]\n",
            " [-0.32755389]\n",
            " [ 0.34127419]]\n"
          ]
        }
      ]
    },
    {
      "cell_type": "markdown",
      "source": [
        "## 3.11 Ridge regression"
      ],
      "metadata": {
        "id": "FB1K5zzOlVLq"
      }
    },
    {
      "cell_type": "code",
      "source": [
        "import numpy as np\n",
        "\n",
        "def ridge(X, y, mu=0.1):\n",
        "  \"\"\"\n",
        "  Calculate regression coefficients using ridge regression\n",
        "\n",
        "  Parameters\n",
        "  ----------\n",
        "  X: Input Data\n",
        "  y: Output Data\n",
        "  mu: Parameter (default: 0.1)\n",
        "\n",
        "  Return Values\n",
        "  ----------\n",
        "  beta_ridge: Regression Coefficient\n",
        "  \"\"\"\n",
        "  # Vectorize y\n",
        "  y = y.reshape(-1, 1)\n",
        "\n",
        "  # Find the regression coeeficients for the Ridge regression\n",
        "  I = np.eye(X.shape[1])\n",
        "  # (Number of conditions before Ridge)\n",
        "  print(f\"Number of conditions before Ridge\", np.linalg.cond(X.T @ X))\n",
        "  # (Number of conditions after Ridge)\n",
        "  print(f\"Number of conditions after Ridge\", np.linalg.cond(X.T @ X + mu * I))\n",
        "  beta_ridge = np.linalg.inv(X.T @ X + mu * I) @ X.T @ y\n",
        "  return beta_ridge"
      ],
      "metadata": {
        "id": "-T4xkdtglqMr"
      },
      "execution_count": 42,
      "outputs": []
    },
    {
      "cell_type": "markdown",
      "source": [
        "### Examples of Ridge regression"
      ],
      "metadata": {
        "id": "nNzOx_88okt7"
      }
    },
    {
      "cell_type": "code",
      "source": [
        "# Set the parameter to 0.1\n",
        "mu = 0.1\n",
        "beta1 = ridge(X1, y, mu)"
      ],
      "metadata": {
        "colab": {
          "base_uri": "https://localhost:8080/"
        },
        "id": "OIUiZVu-p_vc",
        "outputId": "665bfeec-ee7b-47e2-c947-9e74c26ee92e"
      },
      "execution_count": 43,
      "outputs": [
        {
          "output_type": "stream",
          "name": "stdout",
          "text": [
            "Number of conditions before Ridge 235456.75658377822\n",
            "Number of conditions after Ridge 81.12782634914616\n"
          ]
        }
      ]
    },
    {
      "cell_type": "code",
      "source": [
        "print(beta1)"
      ],
      "metadata": {
        "colab": {
          "base_uri": "https://localhost:8080/"
        },
        "id": "ZURoMchBqMlq",
        "outputId": "fdca0e0b-d28b-448e-92f3-9db04db2da8a"
      },
      "execution_count": 44,
      "outputs": [
        {
          "output_type": "stream",
          "name": "stdout",
          "text": [
            "[[ 0.21088992]\n",
            " [-0.65139114]\n",
            " [ 0.47615414]]\n"
          ]
        }
      ]
    },
    {
      "cell_type": "code",
      "source": [
        "beta2 = ridge(X2, y, mu)"
      ],
      "metadata": {
        "colab": {
          "base_uri": "https://localhost:8080/"
        },
        "id": "9AEPbE38qRqe",
        "outputId": "b28bc57c-2488-4746-d81f-e68d0dc3e1aa"
      },
      "execution_count": 45,
      "outputs": [
        {
          "output_type": "stream",
          "name": "stdout",
          "text": [
            "Number of conditions before Ridge 470649.9730137264\n",
            "Number of conditions after Ridge 81.11600505494289\n"
          ]
        }
      ]
    },
    {
      "cell_type": "code",
      "source": [
        "print(beta2)"
      ],
      "metadata": {
        "colab": {
          "base_uri": "https://localhost:8080/"
        },
        "id": "_ZkYCgLKqWqa",
        "outputId": "4c0c3944-8d90-4dd5-83d1-87e8b550b55e"
      },
      "execution_count": 46,
      "outputs": [
        {
          "output_type": "stream",
          "name": "stdout",
          "text": [
            "[[ 0.21198147]\n",
            " [-0.65545325]\n",
            " [ 0.47322964]]\n"
          ]
        }
      ]
    },
    {
      "cell_type": "code",
      "source": [
        "# Set the parameter to 1\n",
        "mu = 1\n",
        "beta1 = ridge(X1, y, mu)"
      ],
      "metadata": {
        "colab": {
          "base_uri": "https://localhost:8080/"
        },
        "id": "vCxyVuW6ql-D",
        "outputId": "6f65248e-7201-4af7-8d1a-455bcfb473ed"
      },
      "execution_count": 47,
      "outputs": [
        {
          "output_type": "stream",
          "name": "stdout",
          "text": [
            "Number of conditions before Ridge 235456.75658377822\n",
            "Number of conditions after Ridge 9.015237530107033\n"
          ]
        }
      ]
    },
    {
      "cell_type": "code",
      "source": [
        "print(beta1)"
      ],
      "metadata": {
        "colab": {
          "base_uri": "https://localhost:8080/"
        },
        "id": "QaHnOjBAqsnf",
        "outputId": "f8618f5f-d752-43b8-a8a4-d893906c612e"
      },
      "execution_count": 48,
      "outputs": [
        {
          "output_type": "stream",
          "name": "stdout",
          "text": [
            "[[ 0.01017256]\n",
            " [-0.47145393]\n",
            " [ 0.3798    ]]\n"
          ]
        }
      ]
    },
    {
      "cell_type": "code",
      "source": [
        "beta2 = ridge(X2, y, mu)"
      ],
      "metadata": {
        "id": "-BCHEXSiqvO9",
        "outputId": "06aba9af-c0ad-46e5-f938-9ca51935331e",
        "colab": {
          "base_uri": "https://localhost:8080/"
        }
      },
      "execution_count": 49,
      "outputs": [
        {
          "output_type": "stream",
          "name": "stdout",
          "text": [
            "Number of conditions before Ridge 470649.9730137264\n",
            "Number of conditions after Ridge 9.012828087473903\n"
          ]
        }
      ]
    },
    {
      "cell_type": "code",
      "source": [
        "print(beta2)"
      ],
      "metadata": {
        "id": "VAxl4FK0qx9-",
        "outputId": "de436bc7-c30a-4042-e799-3130ed902784",
        "colab": {
          "base_uri": "https://localhost:8080/"
        }
      },
      "execution_count": 50,
      "outputs": [
        {
          "output_type": "stream",
          "name": "stdout",
          "text": [
            "[[ 0.01227368]\n",
            " [-0.47396013]\n",
            " [ 0.37864896]]\n"
          ]
        }
      ]
    },
    {
      "cell_type": "markdown",
      "source": [
        "## 3.15 Conversion to multiple regression model"
      ],
      "metadata": {
        "id": "5uhYKu3qqz7I"
      }
    },
    {
      "cell_type": "markdown",
      "source": [
        "### PLS1 by NIPALS"
      ],
      "metadata": {
        "id": "gGdPms7vdVbd"
      }
    },
    {
      "cell_type": "code",
      "source": [
        "import numpy as np\n",
        "\n",
        "def nipals_pls1(X, y, R):\n",
        "  \"\"\"\n",
        "  Calculate regression coefficients using the NIPALS algorithm (PLS1)\n",
        "\n",
        "  Parameters\n",
        "  ----------\n",
        "  X: Input Data\n",
        "  y: Output Data\n",
        "  R: Number of latent variables\n",
        "\n",
        "  Return Values\n",
        "  ----------\n",
        "  beta: Regression Coefficient\n",
        "  W, P, D: Parameters of the PLS1 model\n",
        "  T: Latent Variable\n",
        "  \"\"\"\n",
        "\n",
        "  # Vectorize y\n",
        "  y = y.reshape(-1, 1)\n",
        "\n",
        "  # Create variables to store parameters\n",
        "  W = np.zeros((X.shape[1], R))\n",
        "  P = np.zeros((X.shape[1], R))\n",
        "  D = np.zeros((R, 1))\n",
        "  T = np.zeros((X.shape[0], R))\n",
        "\n",
        "  # Calculate NIPALS\n",
        "  for r in range(R):\n",
        "    # Find weights\n",
        "    w = (X.T @ y) / np.linalg.norm(X.T @ y)\n",
        "    # Calculate latent variables\n",
        "    t = X @ w\n",
        "    # Find the loading vector\n",
        "    p = (X.T @ t) / (t.T @ t)\n",
        "    # Find the regression coefficient\n",
        "    d = (t.T @ y) / (t.T @ t)\n",
        "    # Deflate\n",
        "    X = X - t.reshape(-1, 1) @ p.T\n",
        "    y = y - t @ d\n",
        "    # Stores parameters\n",
        "    W[:,r] = w.T\n",
        "    P[:,r] = p.T\n",
        "    D[r] = d.T\n",
        "    T[:,r] = t.T\n",
        "\n",
        "  # Calculate regression coeffieients\n",
        "  beta = W @ np.linalg.inv(P.T @ W) @ D\n",
        "  return beta, W, P, D, T"
      ],
      "metadata": {
        "id": "px7pT_BydhDD"
      },
      "execution_count": 51,
      "outputs": []
    },
    {
      "cell_type": "markdown",
      "source": [
        "### Numerical example of PLS1"
      ],
      "metadata": {
        "id": "wpwMNA_4tzIc"
      }
    },
    {
      "cell_type": "code",
      "source": [
        "# When the latent variable is 2\n",
        "R = 2\n",
        "beta1, W1, P1, D1, T1 = nipals_pls1(X1, y, R)\n",
        "print(beta1)"
      ],
      "metadata": {
        "colab": {
          "base_uri": "https://localhost:8080/"
        },
        "id": "E30-LxxRuF_Q",
        "outputId": "f280402a-f696-4875-b294-7966a430ee81"
      },
      "execution_count": 52,
      "outputs": [
        {
          "output_type": "stream",
          "name": "stdout",
          "text": [
            "[[ 0.25850307]\n",
            " [-0.68870411]\n",
            " [ 0.4939176 ]]\n"
          ]
        }
      ]
    },
    {
      "cell_type": "code",
      "source": [
        "beta2, W2, P2, D2, T2 = nipals_pls1(X2, y, R)\n",
        "print(beta2)"
      ],
      "metadata": {
        "colab": {
          "base_uri": "https://localhost:8080/"
        },
        "id": "j9YcrCQKui7H",
        "outputId": "6f703e39-de9c-4de6-c59b-41ca27cbcd2b"
      },
      "execution_count": 53,
      "outputs": [
        {
          "output_type": "stream",
          "name": "stdout",
          "text": [
            "[[ 0.25927822]\n",
            " [-0.69216413]\n",
            " [ 0.49144161]]\n"
          ]
        }
      ]
    },
    {
      "cell_type": "code",
      "source": [
        "# When the latent variable is 1\n",
        "R = 1\n",
        "beta1, W1, P1, D1, T1 = nipals_pls1(X1, y, R)\n",
        "print(beta1)"
      ],
      "metadata": {
        "colab": {
          "base_uri": "https://localhost:8080/"
        },
        "id": "Do9VW0VYvyTm",
        "outputId": "24d900cf-e267-4e0d-a129-20c2f0438e5b"
      },
      "execution_count": 54,
      "outputs": [
        {
          "output_type": "stream",
          "name": "stdout",
          "text": [
            "[[-0.23825147]\n",
            " [-0.38052552]\n",
            " [ 0.36808306]]\n"
          ]
        }
      ]
    },
    {
      "cell_type": "code",
      "source": [
        "beta2, W2, P2, D2, T2 = nipals_pls1(X2, y, R)\n",
        "print(beta2)"
      ],
      "metadata": {
        "colab": {
          "base_uri": "https://localhost:8080/"
        },
        "id": "s4okEQ-awHQx",
        "outputId": "f190d615-8ddf-4832-91a8-887759f7afd2"
      },
      "execution_count": 55,
      "outputs": [
        {
          "output_type": "stream",
          "name": "stdout",
          "text": [
            "[[-0.23758087]\n",
            " [-0.38091899]\n",
            " [ 0.36748303]]\n"
          ]
        }
      ]
    },
    {
      "cell_type": "markdown",
      "source": [
        "## 3.16 If there is more than one output variable"
      ],
      "metadata": {
        "id": "_WtqmHXFwK8B"
      }
    },
    {
      "cell_type": "markdown",
      "source": [
        "### PLS2 by NIPALS"
      ],
      "metadata": {
        "id": "a6syQp0mzNk6"
      }
    },
    {
      "cell_type": "code",
      "source": [
        "# Function of PLS2 main unit\n",
        "\n",
        "def nipals_pls2(X, Y, R, epsilon=0.01):\n",
        "  \"\"\"\n",
        "  Calculate regression coefficients using the NIPALS algorithm (PLS2)\n",
        "\n",
        "  Parameters\n",
        "  ----------\n",
        "  X: Input Data\n",
        "  y: Output Data\n",
        "  R: Number of latent variables\n",
        "  epsilon: (default: 0.01)\n",
        "\n",
        "  Return Values\n",
        "  ----------\n",
        "  beta: Regression Coefficient\n",
        "  W, P, Q: Parameters of the PLS2 model\n",
        "  T: Latent Variable\n",
        "  \"\"\"\n",
        "\n",
        "  # Vectorize Y\n",
        "  Y = Y.reshape(-1, 1)\n",
        "\n",
        "  # Create variables to store parameters\n",
        "  W = np.zeros((X.shape[1], R))\n",
        "  P = np.zeros((X.shape[1], R))\n",
        "  Q = np.zeros((Y.shape[1], R))\n",
        "  T = np.zeros((X.shape[0], R))\n",
        "\n",
        "  for r in range(R):\n",
        "    # Find w, c, t\n",
        "    w, c, t = calc_parameter(X, Y, epsilon)\n",
        "    # Find the loading vector\n",
        "    p = (X.T @ t) / (t.T @ t)\n",
        "    # Find the regression coefficient\n",
        "    q = (Y.T @ t) / (t.T @ t)\n",
        "    # Deflate\n",
        "    X = X - np.outer(t, p)\n",
        "    Y = Y - np.outer(t, q)\n",
        "    # Stores parameters\n",
        "    W[:,r] = w.T\n",
        "    P[:,r] = p.T\n",
        "    Q[:,r] = q.T\n",
        "    T[:,r] = t.T\n",
        "\n",
        "  # Calculate regression coeffieients\n",
        "  beta = W @ np.linalg.inv(P.T @ W) @ Q.T\n",
        "  return beta, W, P, Q, T\n",
        "\n",
        "def calc_parameter(X, Y, epsilon):\n",
        "  u = Y[:,0]\n",
        "  while True:\n",
        "    # Update weight vectors\n",
        "    w = X.T @ u / np.linalg.nrom(X.T @ u)\n",
        "    # Update the latent variable t\n",
        "    t = X @ w\n",
        "    # Update the weight vector c\n",
        "    c = Y.T @ t / np.linalg.norm(Y.T @ t)\n",
        "    # Update the latent variable u\n",
        "    u_new = Y @ C\n",
        "    # Convergence judgment is made\n",
        "    if np.linalg.norm(u_new - u) < epsilon: break\n",
        "    u = u_new\n",
        "  return w, c, t"
      ],
      "metadata": {
        "id": "EYMGOEY7zZqX"
      },
      "execution_count": 56,
      "outputs": []
    },
    {
      "cell_type": "markdown",
      "source": [
        "## 3.17 PLS and Eigenvalue Problem/Singular Value Decomposition"
      ],
      "metadata": {
        "id": "xaBq6jvTpafj"
      }
    },
    {
      "cell_type": "markdown",
      "source": [
        "### PLS by NIPALS"
      ],
      "metadata": {
        "id": "5xtQOObppvxZ"
      }
    },
    {
      "cell_type": "code",
      "source": [
        "def simpls(X, Y, R):\n",
        "  \"\"\"\n",
        "  Calculate regression coefficients using the NIPALS algorithm\n",
        "\n",
        "  Parameters\n",
        "  ----------\n",
        "  X: Input Data\n",
        "  y: Output Data\n",
        "  R: Number of latent variables\n",
        "\n",
        "  Return Values\n",
        "  ----------\n",
        "  beta: Regression Coefficient\n",
        "  W, P, Q: Parameters of the PLS1 model\n",
        "  T, U: Latent Variables\n",
        "  cont: contribution ratio\n",
        "  \"\"\"\n",
        "\n",
        "  # Vectorize Y\n",
        "  Y = Y.reshape(-1, 1)\n",
        "\n",
        "  # Create variables to store parameters\n",
        "  W = np.zeros((X.shape[1], R))\n",
        "  P = np.zeros((X.shape[1], R))\n",
        "  Q = np.zeros((Y.shape[1], R))\n",
        "  T = np.zeros((X.shape[0], R))\n",
        "  U = np.zeros((Y.shape[0], R))\n",
        "  ssq = np.zeros([R,2])\n",
        "  ssqX = np.sum(X**2)\n",
        "  ssqY = np.sum(Y**2)\n",
        "\n",
        "  for r in range(R):\n",
        "    # Singular value decomposition\n",
        "    u, s, v = np.linalg.svd(Y.T @ X)\n",
        "    # Find the right singular value vector corresponding to the maximum singular value\n",
        "    w = v[0,:].T\n",
        "    # Find the latent variable t\n",
        "    t = X @ w\n",
        "    # Find the loading vector\n",
        "    p = (X.T @ t) / (t.T @ t)\n",
        "    # Find the regression coefficient q\n",
        "    q = (Y.T @ t) / (t.T @ t)\n",
        "    # Deflate\n",
        "    X = X - np.outer(t, p)\n",
        "    Y = Y - np.outer(t, q)\n",
        "    # Stores parameters\n",
        "    W[:,r] = w.T\n",
        "    P[:,r] = p.T\n",
        "    Q[:,r] = q.T\n",
        "    T[:,r] = t.T\n",
        "    U[:,r] = u.T\n",
        "\n",
        "  # Calculate regression coeffieients\n",
        "  beta = W @ np.linalg.inv(P.T @ W) @ Q.T\n",
        "\n",
        "  # Calculate the contribution ratio\n",
        "  cont = np.zeros([R,2])\n",
        "  cont[0,:] = 1 - ssq[0,:]\n",
        "  for r in range(1,R):\n",
        "    cont[r,:] = ssq[r-1,:] - ssq[r,:]\n",
        "\n",
        "  return beta, W, P, Q, T, U, cont"
      ],
      "metadata": {
        "id": "Z_wYpuSaqhMn"
      },
      "execution_count": 57,
      "outputs": []
    },
    {
      "cell_type": "markdown",
      "source": [
        "### Numerical example of SIMPLS"
      ],
      "metadata": {
        "id": "zb1DBxxYuP4C"
      }
    },
    {
      "cell_type": "code",
      "source": [
        "# When the latent variable is 2\n",
        "R = 2\n",
        "beta1, W1, P1, Q1, T1, _, _ = simpls(X1, y, R)\n",
        "print(beta1)"
      ],
      "metadata": {
        "colab": {
          "base_uri": "https://localhost:8080/"
        },
        "id": "f0G8An9cvAjE",
        "outputId": "1b8bf2da-b582-4be2-eab3-ec3a7f8241c2"
      },
      "execution_count": 58,
      "outputs": [
        {
          "output_type": "stream",
          "name": "stdout",
          "text": [
            "[[ 0.25850307]\n",
            " [-0.68870411]\n",
            " [ 0.4939176 ]]\n"
          ]
        }
      ]
    },
    {
      "cell_type": "code",
      "source": [
        "beta2, W2, P2, Q2, T2, _, _ = simpls(X2, y, R)\n",
        "print(beta2)"
      ],
      "metadata": {
        "colab": {
          "base_uri": "https://localhost:8080/"
        },
        "id": "V1PU7_2AwTbm",
        "outputId": "36666bbd-da09-492c-a7a3-b8c5374c6c9e"
      },
      "execution_count": 59,
      "outputs": [
        {
          "output_type": "stream",
          "name": "stdout",
          "text": [
            "[[ 0.25927822]\n",
            " [-0.69216413]\n",
            " [ 0.49144161]]\n"
          ]
        }
      ]
    },
    {
      "cell_type": "code",
      "source": [
        "# When the latent variable is 1\n",
        "R = 1\n",
        "beta1, W1, P1, Q1, T1, _, _ = simpls(X1, y, R)\n",
        "print(beta1)"
      ],
      "metadata": {
        "colab": {
          "base_uri": "https://localhost:8080/"
        },
        "id": "RfQ72onhxVaM",
        "outputId": "e8f72478-966c-49f7-e6a6-9bde93c60ace"
      },
      "execution_count": 60,
      "outputs": [
        {
          "output_type": "stream",
          "name": "stdout",
          "text": [
            "[[-0.23825147]\n",
            " [-0.38052552]\n",
            " [ 0.36808306]]\n"
          ]
        }
      ]
    },
    {
      "cell_type": "code",
      "source": [
        "beta2, W2, P2, Q2, T2, _, _ = simpls(X2, y, R)\n",
        "print(beta2)"
      ],
      "metadata": {
        "colab": {
          "base_uri": "https://localhost:8080/"
        },
        "id": "WgyqzLWkxb8d",
        "outputId": "a917eadf-f55e-4828-cd21-871b123370bf"
      },
      "execution_count": 61,
      "outputs": [
        {
          "output_type": "stream",
          "name": "stdout",
          "text": [
            "[[-0.23758087]\n",
            " [-0.38091899]\n",
            " [ 0.36748303]]\n"
          ]
        }
      ]
    },
    {
      "cell_type": "markdown",
      "source": [
        "## 3.18 Hyperparameter adjustment"
      ],
      "metadata": {
        "id": "Pg7tY_-Uxd_R"
      }
    },
    {
      "cell_type": "markdown",
      "source": [
        "### cross-validatation"
      ],
      "metadata": {
        "id": "W_4W1geUyxWt"
      }
    },
    {
      "cell_type": "code",
      "source": [
        "import numpy as np\n",
        "\n",
        "def pls_cv(X, Y, maxLV, K=10):\n",
        "  \"\"\"\n",
        "  Cross-validation to find the optimal number of latent variables in the PLS\n",
        "\n",
        "  Parameters\n",
        "  ----------\n",
        "  X: Input Data\n",
        "  Y: Output Data\n",
        "  maxLV: Maximum latent variable to search for\n",
        "  K: Number of data division (default: 10)\n",
        "\n",
        "  Returns\n",
        "  ----------\n",
        "  optR: Optimal number of latent variables\n",
        "  press: PRESS\n",
        "  \"\"\"\n",
        "\n",
        "  n, m = X.shape\n",
        "  n, l = Y.shape\n",
        "  R = np.arange(1, maxLV + 1)\n",
        "  all_index = [i for i in range(n)]\n",
        "  # Number of samples of split data\n",
        "  validation_size = n // K\n",
        "  # Variable to store cross-validation results\n",
        "  result = np.matrix(np.zeros((K, len(R))))\n",
        "\n",
        "  # Shuffle the array\n",
        "  Z = np.hstack((X, Y))\n",
        "  rng = np.random.default_rng()\n",
        "  rng.shuffle(Z, axis = 0)\n",
        "  X = Z[:,0:m]\n",
        "  Y = Z[:,m:m+1]\n",
        "\n",
        "  # Calculate PRESS with cross-validation for each latent variable\n",
        "  for i, r in enumerate(R):\n",
        "    for k in range(K):\n",
        "      # K-separate the data for cross-validation and,\n",
        "      # Select training and validation data\n",
        "      if k != K - 1:\n",
        "        val_index = all_index[k * validation_size : (k+1) * validation_size -1]\n",
        "      else:\n",
        "        val_index = all_index[k * validation_size:]\n",
        "      train_index = [i for i in all_index if not i in val_index]\n",
        "      X_train = X[train_index,:]\n",
        "      X_val = X[val_index,:]\n",
        "      Y_train = Y[train_index,:]\n",
        "      Y_val = Y[val_index,:]\n",
        "\n",
        "      # Standardize each data\n",
        "      X_train, meanX, stdX = autoscale(X_train)\n",
        "      Y_train, meanY, stdY = autoscale(Y_train)\n",
        "      X_val = scaling(X_val, meanX, stdX)\n",
        "\n",
        "      # Calculate regression coefficients usin training data\n",
        "      beta, _, _, _, _, _, _ = simpls(X_train, Y_train, r)\n",
        "\n",
        "      # Compute the predicted value of Y_hat for X_val from the calculated regression coefficients, and\n",
        "      # Return to the original scale\n",
        "      Y_hat = X_val @ beta\n",
        "      J = Y_hat.shape[0]\n",
        "      for j in range(J):\n",
        "        Y_hat[j,:] = rescaling(Y_hat[j,:], meanY, stdY)\n",
        "      \n",
        "      # Calculate and save PRESS\n",
        "      press_val = PRESS(Y_val, Y_hat)\n",
        "      result[k, i] = press_val\n",
        "      press = np.sum(result, axis=0)\n",
        "    \n",
        "  # Search for latent variables when PRESS reaches a minimum\n",
        "  optR = R[np.argmin(press)]\n",
        "  return optR, press\n",
        "\n",
        "def PRESS(y, y_hat):\n",
        "\n",
        "  press_val = np.diag((y - y_hat).T @ (y - y_hat))\n",
        "  return press_val"
      ],
      "metadata": {
        "id": "gVcVRACN4Y8o"
      },
      "execution_count": 62,
      "outputs": []
    },
    {
      "cell_type": "markdown",
      "source": [
        "## 3.19 Regression Model Performance Evaluation"
      ],
      "metadata": {
        "id": "XvXdHJmR4f_P"
      }
    },
    {
      "cell_type": "markdown",
      "source": [
        "### RMSE and correlation coefficient"
      ],
      "metadata": {
        "id": "8OGZHcMz4tSj"
      }
    },
    {
      "cell_type": "code",
      "source": [
        "import numpy as np\n",
        "import matplotlib.pyplot as plt\n",
        "\n",
        "def pred_eval(y, y_hat, plotflg=False):\n",
        "  \"\"\"\n",
        "  Calculate RMSE and correlation coefficient\n",
        "\n",
        "  Parameters\n",
        "  ----------\n",
        "  y: true value\n",
        "  y_hat: predicted value\n",
        "  pltflg: Plot On/Off (default: False)\n",
        "\n",
        "  Return Values\n",
        "  ----------\n",
        "  rmse: RMSE\n",
        "  r: Correlation Coefficient \n",
        "  \"\"\"\n",
        "\n",
        "  rmse = np.linalg.norm(y - y_hat)/np.sqrt(len(y))\n",
        "  r = np.corrcoef(y, y_hat)[0,1]\n",
        "\n",
        "  if plotflg:\n",
        "\n",
        "    # Plot a scatter plot\n",
        "    fig, ax = plt.subplots()\n",
        "    plt.xlabel('Reference')\n",
        "    plt.ylabel('Prediction')\n",
        "    plt.scatter(y, y_hat)\n",
        "\n",
        "    # Get a range of plots\n",
        "    xmin, xmax = ax.get_xlim()\n",
        "    ymin, ymax = ax.get_ylim()\n",
        "\n",
        "    plt.plot([xmin, xmax], [ymin, ymax], color=\"darkgreen\", linestyle=\"dashed\")\n",
        "  \n",
        "    # Correlation coefficients and RMSE are displayed during plotting\n",
        "    r_text = f'r={r:.2f}'\n",
        "    rmse_text = f'rmse={rmse:.2f}'\n",
        "\n",
        "    posx = (xmax - xmin) * 0.1 + xmin\n",
        "    posy_1 = (ymax - ymin) * 0.8 + ymin\n",
        "    posy_2 = (ymax - ymin) * 0.75 + ymin\n",
        "    ax.text(posx, posy_1, r_text)\n",
        "    ax.text(posx, posy_2, rmse_text)\n",
        "\n",
        "    plt.show()\n",
        "  \n",
        "  return rmse, r"
      ],
      "metadata": {
        "id": "v4Fsd5-E7l45"
      },
      "execution_count": 82,
      "outputs": []
    },
    {
      "cell_type": "markdown",
      "source": [
        "## 3.20 Estimation of physical properties by spectral analysis"
      ],
      "metadata": {
        "id": "DE1VkHouAnIZ"
      }
    },
    {
      "cell_type": "code",
      "source": [
        "!wget https://eigenvector.com/wp-content/uploads/2019/06/CNGATEST.zip"
      ],
      "metadata": {
        "id": "I9dPjp4WA1w-",
        "colab": {
          "base_uri": "https://localhost:8080/"
        },
        "outputId": "aa335e8e-86e1-4518-a871-e27c5b2bd9e0"
      },
      "execution_count": 64,
      "outputs": [
        {
          "output_type": "stream",
          "name": "stdout",
          "text": [
            "--2022-07-04 03:49:25--  https://eigenvector.com/wp-content/uploads/2019/06/CNGATEST.zip\n",
            "Resolving eigenvector.com (eigenvector.com)... 69.163.163.60, 2607:f298:6:a034::eaf:812c\n",
            "Connecting to eigenvector.com (eigenvector.com)|69.163.163.60|:443... connected.\n",
            "HTTP request sent, awaiting response... 200 OK\n",
            "Length: 735453 (718K) [application/zip]\n",
            "Saving to: ‘CNGATEST.zip’\n",
            "\n",
            "CNGATEST.zip        100%[===================>] 718.22K  2.08MB/s    in 0.3s    \n",
            "\n",
            "2022-07-04 03:49:25 (2.08 MB/s) - ‘CNGATEST.zip’ saved [735453/735453]\n",
            "\n"
          ]
        }
      ]
    },
    {
      "cell_type": "code",
      "source": [
        "!unzip CNGATEST.zip"
      ],
      "metadata": {
        "colab": {
          "base_uri": "https://localhost:8080/"
        },
        "id": "1eQJwPbxZyE2",
        "outputId": "91be703d-27f7-4f0a-9501-be4f23d5b83d"
      },
      "execution_count": 65,
      "outputs": [
        {
          "output_type": "stream",
          "name": "stdout",
          "text": [
            "Archive:  CNGATEST.zip\n",
            "  inflating: CNGATEST.mat            \n"
          ]
        }
      ]
    },
    {
      "cell_type": "markdown",
      "source": [
        "### Loading spectral data for diesel fuel"
      ],
      "metadata": {
        "id": "a4thv9inZ3nR"
      }
    },
    {
      "cell_type": "code",
      "source": [
        "import scipy.io\n",
        "\n",
        "# Loads MATLAB format file\n",
        "CNGATEST_dict = scipy.io.loadmat('CNGATEST.mat')\n",
        "\n",
        "# Data is stored as a dictonary type, so check the key\n",
        "print(CNGATEST_dict.keys())"
      ],
      "metadata": {
        "colab": {
          "base_uri": "https://localhost:8080/"
        },
        "id": "K_UWEg4BaOS4",
        "outputId": "7f09de19-590b-45f9-868e-8a4601bc0dd7"
      },
      "execution_count": 77,
      "outputs": [
        {
          "output_type": "stream",
          "name": "stdout",
          "text": [
            "dict_keys(['__header__', '__version__', '__globals__', 'cn_sd_hl', 'cn_y_hl', 'cn_sd_ll_a', 'cn_sd_ll_b', 'cn_y_ll_a', 'cn_y_ll_b'])\n"
          ]
        }
      ]
    },
    {
      "cell_type": "markdown",
      "source": [
        "### Prepare training and test data"
      ],
      "metadata": {
        "id": "3tx_GPzvbGb9"
      }
    },
    {
      "cell_type": "code",
      "source": [
        "import numpy as np\n",
        "\n",
        "# Extracting an array from a dictionary type\n",
        "cn_sd_hl = CNGATEST_dict['cn_sd_hl']\n",
        "cn_sd_ll_a = CNGATEST_dict['cn_sd_ll_a']\n",
        "cn_sd_ll_b = CNGATEST_dict['cn_sd_ll_b']\n",
        "cn_y_hl = CNGATEST_dict['cn_y_hl']\n",
        "cn_y_ll_a = CNGATEST_dict['cn_y_ll_a']\n",
        "cn_y_ll_b = CNGATEST_dict['cn_y_ll_b']\n",
        "\n",
        "# Prepare training and validation data\n",
        "Xtrain = np.vstack([cn_sd_ll_a, cn_sd_hl])\n",
        "Xval = cn_sd_ll_b\n",
        "\n",
        "ytrain = np.vstack([cn_y_ll_a, cn_y_hl])\n",
        "yval = cn_y_ll_b\n",
        "\n",
        "# Check array size\n",
        "print(Xtrain.shape)"
      ],
      "metadata": {
        "id": "iziGvomZb3k2",
        "colab": {
          "base_uri": "https://localhost:8080/"
        },
        "outputId": "2c2da2e0-4f52-4738-d6f1-3420f0f7e74a"
      },
      "execution_count": 78,
      "outputs": [
        {
          "output_type": "stream",
          "name": "stdout",
          "text": [
            "(133, 401)\n"
          ]
        }
      ]
    },
    {
      "cell_type": "code",
      "source": [
        "print(Xval.shape)"
      ],
      "metadata": {
        "colab": {
          "base_uri": "https://localhost:8080/"
        },
        "id": "cZ1u9vTiYx08",
        "outputId": "c7a35210-cd09-4c06-851f-154ca58d1b13"
      },
      "execution_count": 79,
      "outputs": [
        {
          "output_type": "stream",
          "name": "stdout",
          "text": [
            "(112, 401)\n"
          ]
        }
      ]
    },
    {
      "cell_type": "markdown",
      "source": [
        "### Confirmation of spectra"
      ],
      "metadata": {
        "id": "8jw_QqngY0UO"
      }
    },
    {
      "cell_type": "code",
      "source": [
        "import matplotlib.pyplot as plt\n",
        "\n",
        "# Prepare the values for the horizontal axis of the plot\n",
        "wave = np.arange(750, 1551, 2)\n",
        "\n",
        "fig, ax = plt.subplots(facecolor=\"w\")\n",
        "plt.xlabel('Wavelength [nm]')\n",
        "plt.ylabel('Intensity')\n",
        "ax.plot(wave, Xtrain[26,:], label='26th, CN = 53.9')\n",
        "ax.plot(wave, Xtrain[32,:], label='32th, CN = 42.8')\n",
        "ax.legend()\n",
        "plt.show()"
      ],
      "metadata": {
        "colab": {
          "base_uri": "https://localhost:8080/",
          "height": 279
        },
        "id": "uuhb6ZqtZHs_",
        "outputId": "4d24a049-54f3-47b0-9f4e-9dd93f2d38d8"
      },
      "execution_count": 80,
      "outputs": [
        {
          "output_type": "display_data",
          "data": {
            "text/plain": [
              "<Figure size 432x288 with 1 Axes>"
            ],
            "image/png": "[encoded data removed]"
          },
          "metadata": {}
        }
      ]
    },
    {
      "cell_type": "markdown",
      "source": [
        "### Learnign calibration curves with Ridge regression and PCR"
      ],
      "metadata": {
        "id": "HRqj0T9CfPIZ"
      }
    },
    {
      "cell_type": "code",
      "source": [
        "# Standardization of data\n",
        "X_, meanX, stdX = autoscale(Xtrain)\n",
        "y_, meany, stdy = autoscale(ytrain)\n",
        "Xval_ = scaling(Xval, meanX, stdX)\n",
        "yval_ = scaling(yval, meany, stdy)\n",
        "\n",
        "# Ridge Regression\n",
        "beta = ridge(X_, y_, mu=1)\n",
        "y_hat_ = Xval_ @ beta\n",
        "y_hat = rescaling(y_hat_, meany, stdy)\n",
        "rmse, r = pred_eval(yval, y_hat, True)\n",
        "\n",
        "# PCR\n",
        "beta = pcr(X_, y_, R=5)\n",
        "y_hat_ = Xval_ @ beta\n",
        "y_hat = rescaling(y_hat_, meany, stdy)\n",
        "rmse, r = pred_eval(yval, y_hat, plotflg=True)"
      ],
      "metadata": {
        "colab": {
          "base_uri": "https://localhost:8080/",
          "height": 851
        },
        "id": "24so5wVGfhkx",
        "outputId": "dc092f32-2332-4512-fae3-843e58bf6c03"
      },
      "execution_count": 86,
      "outputs": [
        {
          "output_type": "stream",
          "name": "stdout",
          "text": [
            "Number of conditions before Ridge 2.7974206921691247e+19\n",
            "Number of conditions after Ridge 23294.576835911\n"
          ]
        },
        {
          "output_type": "stream",
          "name": "stderr",
          "text": [
            "/usr/local/lib/python3.7/dist-packages/numpy/lib/function_base.py:2683: RuntimeWarning: Degrees of freedom <= 0 for slice\n",
            "  c = cov(x, y, rowvar, dtype=dtype)\n",
            "/usr/local/lib/python3.7/dist-packages/numpy/lib/function_base.py:2542: RuntimeWarning: divide by zero encountered in true_divide\n",
            "  c *= np.true_divide(1, fact)\n",
            "/usr/local/lib/python3.7/dist-packages/numpy/lib/function_base.py:2542: RuntimeWarning: invalid value encountered in multiply\n",
            "  c *= np.true_divide(1, fact)\n"
          ]
        },
        {
          "output_type": "display_data",
          "data": {
            "text/plain": [
              "<Figure size 432x288 with 1 Axes>"
            ],
            "image/png": "[encoded data removed]"
          },
          "metadata": {
            "needs_background": "light"
          }
        },
        {
          "output_type": "stream",
          "name": "stdout",
          "text": [
            "Number of conditions before PCA 2.7974206921691247e+19\n",
            "Number of conditions after PCA 10.930888158547178\n"
          ]
        },
        {
          "output_type": "stream",
          "name": "stderr",
          "text": [
            "/usr/local/lib/python3.7/dist-packages/numpy/lib/function_base.py:2691: RuntimeWarning: invalid value encountered in true_divide\n",
            "  c /= stddev[:, None]\n",
            "/usr/local/lib/python3.7/dist-packages/numpy/lib/function_base.py:2692: RuntimeWarning: invalid value encountered in true_divide\n",
            "  c /= stddev[None, :]\n",
            "/usr/local/lib/python3.7/dist-packages/matplotlib/collections.py:153: ComplexWarning: Casting complex values to real discards the imaginary part\n",
            "  offsets = np.asanyarray(offsets, float)\n"
          ]
        },
        {
          "output_type": "display_data",
          "data": {
            "text/plain": [
              "<Figure size 432x288 with 1 Axes>"
            ],
            "image/png": "[encoded data removed]"
          },
          "metadata": {
            "needs_background": "light"
          }
        }
      ]
    },
    {
      "cell_type": "markdown",
      "source": [
        "### Learning calibrations in PLS"
      ],
      "metadata": {
        "id": "sRlsjW7OfoT7"
      }
    },
    {
      "cell_type": "code",
      "source": [
        "# PLS (R=20)\n",
        "beta, _, _, _, _, _, _ = simpls(X_, y_, R=5)\n",
        "y_hat_ = Xval_ @ beta\n",
        "y_hat = rescaling(y_hat_, meany, stdy)\n",
        "rmse, r = pred_eval(yval, y_hat, True)\n",
        "\n",
        "print([r, rmse])"
      ],
      "metadata": {
        "colab": {
          "base_uri": "https://localhost:8080/",
          "height": 426
        },
        "id": "SH3KJ9UquKbt",
        "outputId": "50d56750-d5c7-4bae-ad03-a0fbe4ab272f"
      },
      "execution_count": 87,
      "outputs": [
        {
          "output_type": "stream",
          "name": "stderr",
          "text": [
            "/usr/local/lib/python3.7/dist-packages/numpy/lib/function_base.py:2683: RuntimeWarning: Degrees of freedom <= 0 for slice\n",
            "  c = cov(x, y, rowvar, dtype=dtype)\n",
            "/usr/local/lib/python3.7/dist-packages/numpy/lib/function_base.py:2542: RuntimeWarning: divide by zero encountered in true_divide\n",
            "  c *= np.true_divide(1, fact)\n",
            "/usr/local/lib/python3.7/dist-packages/numpy/lib/function_base.py:2542: RuntimeWarning: invalid value encountered in multiply\n",
            "  c *= np.true_divide(1, fact)\n"
          ]
        },
        {
          "output_type": "display_data",
          "data": {
            "text/plain": [
              "<Figure size 432x288 with 1 Axes>"
            ],
            "image/png": "[encoded data removed]"
          },
          "metadata": {
            "needs_background": "light"
          }
        },
        {
          "output_type": "stream",
          "name": "stdout",
          "text": [
            "[nan, 2.122218718395657]\n"
          ]
        }
      ]
    },
    {
      "cell_type": "code",
      "source": [
        "# Cross-validation\n",
        "optLV, press = pls_cv(X_, y_, maxLV=30, K=10)\n",
        "\n",
        "print(optLV)"
      ],
      "metadata": {
        "colab": {
          "base_uri": "https://localhost:8080/"
        },
        "id": "Mqt74Yo_umSo",
        "outputId": "8ae2a365-35ca-484f-ba08-6a99da3716ac"
      },
      "execution_count": 88,
      "outputs": [
        {
          "output_type": "stream",
          "name": "stdout",
          "text": [
            "6\n"
          ]
        }
      ]
    },
    {
      "cell_type": "code",
      "source": [
        "# Calibration study\n",
        "beta, _, _, _, _, _, _ = simpls(X_, y_, optLV)\n",
        "y_hat_ = Xval_ @ beta\n",
        "y_hat = rescaling(y_hat_, meany, stdy)\n",
        "rmse, r = pred_eval(yval, y_hat, True)"
      ],
      "metadata": {
        "colab": {
          "base_uri": "https://localhost:8080/",
          "height": 408
        },
        "id": "oB36Vn4Bu5So",
        "outputId": "4f1dd917-1eca-42fb-cad5-a65a22f88656"
      },
      "execution_count": 90,
      "outputs": [
        {
          "output_type": "stream",
          "name": "stderr",
          "text": [
            "/usr/local/lib/python3.7/dist-packages/numpy/lib/function_base.py:2683: RuntimeWarning: Degrees of freedom <= 0 for slice\n",
            "  c = cov(x, y, rowvar, dtype=dtype)\n",
            "/usr/local/lib/python3.7/dist-packages/numpy/lib/function_base.py:2542: RuntimeWarning: divide by zero encountered in true_divide\n",
            "  c *= np.true_divide(1, fact)\n",
            "/usr/local/lib/python3.7/dist-packages/numpy/lib/function_base.py:2542: RuntimeWarning: invalid value encountered in multiply\n",
            "  c *= np.true_divide(1, fact)\n"
          ]
        },
        {
          "output_type": "display_data",
          "data": {
            "text/plain": [
              "<Figure size 432x288 with 1 Axes>"
            ],
            "image/png": "[encoded data removed]"
          },
          "metadata": {
            "needs_background": "light"
          }
        }
      ]
    },
    {
      "cell_type": "code",
      "source": [
        ""
      ],
      "metadata": {
        "id": "uTFCU_kJvXf7"
      },
      "execution_count": null,
      "outputs": []
    }
  ]
}